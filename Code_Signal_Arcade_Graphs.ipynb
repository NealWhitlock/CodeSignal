{
  "nbformat": 4,
  "nbformat_minor": 0,
  "metadata": {
    "colab": {
      "name": "Code Signal - Arcade - Graphs.ipynb",
      "provenance": [],
      "collapsed_sections": [
        "Mm90F0rE5J7v",
        "9AT9czFi5NUn",
        "8HO1DKj-_fiT",
        "GYEjXr-Ct28R",
        "_0iFEsA6v_cw",
        "Ob90qKRlwA3_",
        "zN4vhBZSwCP5",
        "rjXc-yjowEVx"
      ],
      "authorship_tag": "ABX9TyMuvN+zIcphhgEJ168RMOnQ",
      "include_colab_link": true
    },
    "kernelspec": {
      "name": "python3",
      "display_name": "Python 3"
    }
  },
  "cells": [
    {
      "cell_type": "markdown",
      "metadata": {
        "id": "view-in-github",
        "colab_type": "text"
      },
      "source": [
        "<a href=\"https://colab.research.google.com/github/NealWhitlock/CodeSignal/blob/main/Code_Signal_Arcade_Graphs.ipynb\" target=\"_parent\"><img src=\"https://colab.research.google.com/assets/colab-badge.svg\" alt=\"Open In Colab\"/></a>"
      ]
    },
    {
      "cell_type": "markdown",
      "metadata": {
        "id": "oUtCqAy0Mede"
      },
      "source": [
        "## Kingdom Roads"
      ]
    },
    {
      "cell_type": "markdown",
      "metadata": {
        "id": "Mm90F0rE5J7v"
      },
      "source": [
        "### 1 - New Road System"
      ]
    },
    {
      "cell_type": "code",
      "metadata": {
        "id": "EkaihQNemow1"
      },
      "source": [
        "def newRoadSystem(roadRegister):\n",
        "    connections = {}\n",
        "    counts = {}\n",
        "    \n",
        "    for i, city in enumerate(roadRegister):\n",
        "        for j, road in enumerate(city):\n",
        "            if road:\n",
        "                if i in connections:\n",
        "                    connections[i].append(j)\n",
        "                else:\n",
        "                    connections[i] = [j]\n",
        "                \n",
        "                if j in counts:\n",
        "                    counts[j] += 1\n",
        "                else:\n",
        "                    counts[j] = 1\n",
        "    \n",
        "    print(connections, counts)\n",
        "    \n",
        "    for key, value in counts.items():\n",
        "        print(key, value)\n",
        "        if key in connections:\n",
        "            print(len(connections[key]))\n",
        "            if len(connections[key]) == value:\n",
        "                continue\n",
        "            else:\n",
        "                return False\n",
        "        else:\n",
        "            return False\n",
        "    \n",
        "    return True"
      ],
      "execution_count": null,
      "outputs": []
    },
    {
      "cell_type": "code",
      "metadata": {
        "id": "XT5UvkVtmwly"
      },
      "source": [
        "roadRegister = [[False,True,False], \n",
        "                [False,False,False], \n",
        "                [True,False,False]]"
      ],
      "execution_count": null,
      "outputs": []
    },
    {
      "cell_type": "code",
      "metadata": {
        "id": "FpP5FrbAm7XG",
        "outputId": "bc87a86c-6ef7-4435-9684-240685aedca9",
        "colab": {
          "base_uri": "https://localhost:8080/",
          "height": 50
        }
      },
      "source": [
        "newRoadSystem(roadRegister)"
      ],
      "execution_count": null,
      "outputs": [
        {
          "output_type": "stream",
          "text": [
            "{0: [1], 2: [0]} {1: 1, 0: 1}\n"
          ],
          "name": "stdout"
        },
        {
          "output_type": "execute_result",
          "data": {
            "text/plain": [
              "False"
            ]
          },
          "metadata": {
            "tags": []
          },
          "execution_count": 6
        }
      ]
    },
    {
      "cell_type": "code",
      "metadata": {
        "id": "ewnQsTzEnac0"
      },
      "source": [
        "roads = [[False,True,True,True,False], \n",
        "         [True,False,True,True,True], \n",
        "         [True,True,False,True,False], \n",
        "         [True,True,True,False,True], \n",
        "         [True,True,True,True,False]]"
      ],
      "execution_count": null,
      "outputs": []
    },
    {
      "cell_type": "code",
      "metadata": {
        "id": "_Y3s6Eq3nwf8",
        "outputId": "6add3e29-0faf-4015-e738-4bb9cff8d2fc",
        "colab": {
          "base_uri": "https://localhost:8080/",
          "height": 118
        }
      },
      "source": [
        "newRoadSystem(roads)"
      ],
      "execution_count": null,
      "outputs": [
        {
          "output_type": "stream",
          "text": [
            "{0: [1, 2, 3], 1: [0, 2, 3, 4], 2: [0, 1, 3], 3: [0, 1, 2, 4], 4: [0, 1, 2, 3]} {1: 4, 2: 4, 3: 4, 0: 4, 4: 2}\n",
            "1 4\n",
            "4\n",
            "2 4\n",
            "3\n"
          ],
          "name": "stdout"
        },
        {
          "output_type": "execute_result",
          "data": {
            "text/plain": [
              "False"
            ]
          },
          "metadata": {
            "tags": []
          },
          "execution_count": 14
        }
      ]
    },
    {
      "cell_type": "markdown",
      "metadata": {
        "id": "9AT9czFi5NUn"
      },
      "source": [
        "### 2 - Roads Building"
      ]
    },
    {
      "cell_type": "code",
      "metadata": {
        "id": "4GlwpZya5OnA"
      },
      "source": [
        "def roadsBuilding(cities, roads):\n",
        "    # Dictionary to store the existing roads\n",
        "    connections = {}\n",
        "\n",
        "    # Create the city keys in the dictionary\n",
        "    for i in range(cities):\n",
        "        connections[i] = set()\n",
        "    \n",
        "    print(connections)\n",
        "\n",
        "    # Add the roads to the connections\n",
        "    for road in roads:\n",
        "        connections[road[0]].add(road[1])\n",
        "    \n",
        "    print(connections)\n",
        "\n",
        "    added = set()\n",
        "\n",
        "    # Fill in missing connections for all subsequent cities\n",
        "    for i in range(cities):\n",
        "        print(i)\n",
        "        for city, roads in connections.items():\n",
        "            print(city, roads)\n",
        "            if i > city:\n",
        "                if (i not in roads) and (city not in connections[i]):\n",
        "                    # connections[city].add(i)\n",
        "                    added.add((city, i))\n",
        "\n",
        "    print(connections)\n",
        "    print(added)\n",
        "\n",
        "    return sorted([[city[0],city[1]] for city in added])"
      ],
      "execution_count": null,
      "outputs": []
    },
    {
      "cell_type": "code",
      "metadata": {
        "id": "aNvpTh5B5Sgh"
      },
      "source": [
        "cities = 4\n",
        "roads = [[0,1], \n",
        "         [1,2], \n",
        "         [2,0]]"
      ],
      "execution_count": null,
      "outputs": []
    },
    {
      "cell_type": "code",
      "metadata": {
        "id": "O-9NSYlm5syV",
        "outputId": "0bf00168-0024-476c-ecc7-dbd9bb576c39",
        "colab": {
          "base_uri": "https://localhost:8080/",
          "height": 437
        }
      },
      "source": [
        "roadsBuilding(cities, roads)"
      ],
      "execution_count": null,
      "outputs": [
        {
          "output_type": "stream",
          "text": [
            "{0: set(), 1: set(), 2: set(), 3: set()}\n",
            "{0: {1}, 1: {2}, 2: {0}, 3: set()}\n",
            "0\n",
            "0 {1}\n",
            "1 {2}\n",
            "2 {0}\n",
            "3 set()\n",
            "1\n",
            "0 {1}\n",
            "1 {2}\n",
            "2 {0}\n",
            "3 set()\n",
            "2\n",
            "0 {1}\n",
            "1 {2}\n",
            "2 {0}\n",
            "3 set()\n",
            "3\n",
            "0 {1}\n",
            "1 {2}\n",
            "2 {0}\n",
            "3 set()\n",
            "{0: {1}, 1: {2}, 2: {0}, 3: set()}\n",
            "{(0, 3), (1, 3), (2, 3)}\n"
          ],
          "name": "stdout"
        },
        {
          "output_type": "execute_result",
          "data": {
            "text/plain": [
              "[[0, 3], [1, 3], [2, 3]]"
            ]
          },
          "metadata": {
            "tags": []
          },
          "execution_count": 45
        }
      ]
    },
    {
      "cell_type": "markdown",
      "metadata": {
        "id": "8HO1DKj-_fiT"
      },
      "source": [
        "### 3 - Efficient Road Network"
      ]
    },
    {
      "cell_type": "code",
      "metadata": {
        "id": "NpwabZoo_gsT"
      },
      "source": [
        "def efficientRoadNetwork(n, roads):\n",
        "    connections = {}\n",
        "    for i in range(n):\n",
        "        connections[i] = set()\n",
        "\n",
        "    print(connections)\n",
        "    \n",
        "    for road in roads:\n",
        "        connections[road[0]].add(road[1])\n",
        "        connections[road[1]].add(road[0])\n",
        "    \n",
        "    print(connections)\n",
        "\n",
        "    for city, connected_cities in connections.items():\n",
        "        for i in range(n):\n",
        "            if i not in connected_cities:\n",
        "                within_two = False\n",
        "                for connect in connected_cities:\n",
        "                    if i in connections[connect]:\n",
        "                        within_two = True\n",
        "            if not within_two:\n",
        "                if n == 1:\n",
        "                    return True\n",
        "                else:\n",
        "                    return False\n",
        "    \n",
        "    return True"
      ],
      "execution_count": null,
      "outputs": []
    },
    {
      "cell_type": "code",
      "metadata": {
        "id": "FfhsMTNTqq62"
      },
      "source": [
        "n = 6\n",
        "roads = [[3,0], \n",
        "         [0,4], \n",
        "         [5,0], \n",
        "         [2,1], \n",
        "         [1,4], \n",
        "         [2,3], \n",
        "         [5,2]]\n",
        "\n",
        "roads2 = [[0, 4], [5, 0], [2, 1],\n",
        "          [1, 4], [2, 3], [5, 2]]"
      ],
      "execution_count": null,
      "outputs": []
    },
    {
      "cell_type": "code",
      "metadata": {
        "id": "DEF-56rMrVXP",
        "outputId": "3fb7febd-6c2a-4b71-a2c7-19050ecacf7f",
        "colab": {
          "base_uri": "https://localhost:8080/",
          "height": 67
        }
      },
      "source": [
        "efficientRoadNetwork(n, roads)"
      ],
      "execution_count": null,
      "outputs": [
        {
          "output_type": "stream",
          "text": [
            "{0: set(), 1: set(), 2: set(), 3: set(), 4: set(), 5: set()}\n",
            "{0: {3, 4, 5}, 1: {2, 4}, 2: {1, 3, 5}, 3: {0, 2}, 4: {0, 1}, 5: {0, 2}}\n"
          ],
          "name": "stdout"
        },
        {
          "output_type": "execute_result",
          "data": {
            "text/plain": [
              "True"
            ]
          },
          "metadata": {
            "tags": []
          },
          "execution_count": 6
        }
      ]
    },
    {
      "cell_type": "code",
      "metadata": {
        "id": "auw1N8dmtSxE",
        "outputId": "5dd9f748-6fc5-48c9-b4ae-b983130770d3",
        "colab": {
          "base_uri": "https://localhost:8080/",
          "height": 67
        }
      },
      "source": [
        "efficientRoadNetwork(n, roads2)"
      ],
      "execution_count": null,
      "outputs": [
        {
          "output_type": "stream",
          "text": [
            "{0: set(), 1: set(), 2: set(), 3: set(), 4: set(), 5: set()}\n",
            "{0: {4, 5}, 1: {2, 4}, 2: {1, 3, 5}, 3: {2}, 4: {0, 1}, 5: {0, 2}}\n"
          ],
          "name": "stdout"
        },
        {
          "output_type": "execute_result",
          "data": {
            "text/plain": [
              "False"
            ]
          },
          "metadata": {
            "tags": []
          },
          "execution_count": 8
        }
      ]
    },
    {
      "cell_type": "markdown",
      "metadata": {
        "id": "GYEjXr-Ct28R"
      },
      "source": [
        "### 4 - Financial Crisis"
      ]
    },
    {
      "cell_type": "code",
      "metadata": {
        "id": "cfhU8Jslt4Bg",
        "outputId": "97d48f38-1ed4-4478-9aed-320e370f97cc",
        "colab": {
          "base_uri": "https://localhost:8080/",
          "height": 35
        }
      },
      "source": [
        "fixer = \"\"\"roadRegister = [[false, true,  true,  false],\n",
        "                [true,  false, true,  false],\n",
        "                [true,  true,  false, true ],\n",
        "                [false, false, true,  false]]\"\"\"\n",
        "\n",
        "new = ''\n",
        "\n",
        "for word in fixer.split():\n",
        "    # print(word)\n",
        "    if 'true' in word or 'false' in word:\n",
        "        if word[0] == '[':\n",
        "            if word[1] == '[':\n",
        "                new += '[[' + word[2:].capitalize()\n",
        "            else:\n",
        "                new += '[' + word[1:].capitalize()\n",
        "        else:\n",
        "            new += word.capitalize()\n",
        "    else:\n",
        "        new += word\n",
        "\n",
        "\n",
        "new"
      ],
      "execution_count": null,
      "outputs": [
        {
          "output_type": "execute_result",
          "data": {
            "application/vnd.google.colaboratory.intrinsic+json": {
              "type": "string"
            },
            "text/plain": [
              "'roadRegister=[[False,True,True,False],[True,False,True,False],[True,True,False,True],[False,False,True,False]]'"
            ]
          },
          "metadata": {
            "tags": []
          },
          "execution_count": 18
        }
      ]
    },
    {
      "cell_type": "code",
      "metadata": {
        "id": "_kgFifam01ED"
      },
      "source": [
        "roadRegister=[[False,True,True,False],[True,False,True,False],[True,True,False,True],[False,False,True,False]]"
      ],
      "execution_count": null,
      "outputs": []
    },
    {
      "cell_type": "code",
      "metadata": {
        "id": "lilx23vL2zwj"
      },
      "source": [
        "def financialCrisis(roadRegister):\n",
        "    connections = {}\n",
        "\n",
        "    for i in range(len(roadRegister)):\n",
        "        for j in range(len(roadRegister[i])):\n",
        "            # print(i, j)\n",
        "            if roadRegister[i][j]:\n",
        "                if i in connections:\n",
        "                    connections[i].add(j)\n",
        "                else:\n",
        "                    connections[i] = {j}\n",
        "    \n",
        "    print(connections)\n",
        "\n",
        "    for city in connections.keys():\n",
        "        print(city, connections[city])\n",
        "    \n",
        "    for i in range(len(connections)):\n",
        "        print(i)\n",
        "        new_roads = []\n",
        "        for city, roads in connections.items():\n",
        "            if city != i:\n",
        "                "
      ],
      "execution_count": null,
      "outputs": []
    },
    {
      "cell_type": "code",
      "metadata": {
        "id": "hTAYxAUs3ie7",
        "outputId": "a34ee84e-4d28-45b4-be2d-3949adceb470",
        "colab": {
          "base_uri": "https://localhost:8080/",
          "height": 168
        }
      },
      "source": [
        "financialCrisis(roadRegister)"
      ],
      "execution_count": null,
      "outputs": [
        {
          "output_type": "stream",
          "text": [
            "{0: {1, 2}, 1: {0, 2}, 2: {0, 1, 3}, 3: {2}}\n",
            "0 {1, 2}\n",
            "1 {0, 2}\n",
            "2 {0, 1, 3}\n",
            "3 {2}\n",
            "0\n",
            "1\n",
            "2\n",
            "3\n"
          ],
          "name": "stdout"
        }
      ]
    },
    {
      "cell_type": "code",
      "metadata": {
        "id": "N22Npyqu3yfr",
        "outputId": "9c8f0dbd-74d9-4180-c7be-37d48a867388",
        "colab": {
          "base_uri": "https://localhost:8080/",
          "height": 84
        }
      },
      "source": [
        "def financialCrisis(roadRegister):\n",
        "    possibles = []\n",
        "    num_cities = len(roadRegister)\n",
        "    # Loop through each city to get map as though this city was removed\n",
        "    for i in range(num_cities):\n",
        "        # print(i)\n",
        "#        print(roadRegister[i])\n",
        "        new_map = []\n",
        "        # Loop over each city and don't add the row for the ith city\n",
        "        for j in range(num_cities):\n",
        "            #print(j, roadRegister[j])\n",
        "            if j != i:\n",
        "                # print(j, roadRegister[j])\n",
        "                new_roads = []\n",
        "                for k in range(num_cities):\n",
        "                    #print(k, roadRegister[j][k])\n",
        "                    if k != i:\n",
        "                        # print(k, roadRegister[j][k])\n",
        "                        new_roads.append(roadRegister[j][k])\n",
        "\n",
        "                new_map.append(new_roads)\n",
        "        possibles.append(new_map)\n",
        "    \n",
        "    return possibles\n",
        "\n",
        "financialCrisis(roadRegister)"
      ],
      "execution_count": null,
      "outputs": [
        {
          "output_type": "execute_result",
          "data": {
            "text/plain": [
              "[[[False, True, False], [True, False, True], [False, True, False]],\n",
              " [[False, True, False], [True, False, True], [False, True, False]],\n",
              " [[False, True, False], [True, False, False], [False, False, False]],\n",
              " [[False, True, True], [True, False, True], [True, True, False]]]"
            ]
          },
          "metadata": {
            "tags": []
          },
          "execution_count": 58
        }
      ]
    },
    {
      "cell_type": "code",
      "metadata": {
        "id": "ItaZRT6q7UVo",
        "outputId": "61782efc-6ade-4e6e-cfc8-f728427ed0ed",
        "colab": {
          "base_uri": "https://localhost:8080/",
          "height": 420
        }
      },
      "source": [
        "def financialCrisis(roadRegister):\n",
        "    possibles = []\n",
        "    num_cities = len(roadRegister)\n",
        "\n",
        "    for i in range(num_cities):\n",
        "        new_map = []\n",
        "        for j in range(num_cities):\n",
        "            if j != i:\n",
        "                new_roads = []\n",
        "                for k in range(num_cities):\n",
        "                    if k != i:\n",
        "                        new_roads.append(roadRegister[j][k])\n",
        "\n",
        "                new_map.append(new_roads)\n",
        "        possibles.append(new_map)\n",
        "    \n",
        "    return possibles"
      ],
      "execution_count": null,
      "outputs": [
        {
          "output_type": "stream",
          "text": [
            "0\n",
            "0\n",
            "1\n",
            "2\n",
            "3\n",
            "1\n",
            "0\n",
            "1\n",
            "2\n",
            "3\n",
            "2\n",
            "0\n",
            "1\n",
            "2\n",
            "3\n",
            "3\n",
            "0\n",
            "1\n",
            "2\n",
            "3\n"
          ],
          "name": "stdout"
        },
        {
          "output_type": "execute_result",
          "data": {
            "text/plain": [
              "[[True, True, False],\n",
              " [True, True, False],\n",
              " [True, True, True],\n",
              " [False, False, True]]"
            ]
          },
          "metadata": {
            "tags": []
          },
          "execution_count": 42
        }
      ]
    },
    {
      "cell_type": "markdown",
      "metadata": {
        "id": "_0iFEsA6v_cw"
      },
      "source": [
        "### 5 - Naming Roads"
      ]
    },
    {
      "cell_type": "code",
      "metadata": {
        "id": "i-wAr8HhwAo-"
      },
      "source": [
        "roads = [[0, 1, 0],\n",
        "         [4, 1, 2],\n",
        "         [4, 3, 4],\n",
        "         [2, 3, 1],\n",
        "         [2, 0, 3]]"
      ],
      "execution_count": null,
      "outputs": []
    },
    {
      "cell_type": "code",
      "metadata": {
        "id": "-i-S29KRzSXD",
        "outputId": "28afa643-1627-4e55-833e-56e1e74e3a56",
        "colab": {
          "base_uri": "https://localhost:8080/",
          "height": 34
        }
      },
      "source": [
        "def namingRoads(roads):\n",
        "    roads_dict = {}\n",
        "    max_road = 0\n",
        "\n",
        "    for road in roads:\n",
        "        roads_dict[road[2]] = {road[0], road[1]}\n",
        "        if road[2] > max_road:\n",
        "            max_road = road[2]\n",
        "    \n",
        "    # print(roads_dict)\n",
        "    # print(max_road)\n",
        "\n",
        "    for i in range(max_road):\n",
        "        if i in roads_dict:\n",
        "            if i+1 in roads_dict:\n",
        "                if roads_dict[i].intersection(roads_dict[i+1]) != set():\n",
        "                    return False\n",
        "    \n",
        "    return True\n",
        "\n",
        "namingRoads(roads)"
      ],
      "execution_count": null,
      "outputs": [
        {
          "output_type": "execute_result",
          "data": {
            "text/plain": [
              "True"
            ]
          },
          "metadata": {
            "tags": []
          },
          "execution_count": 16
        }
      ]
    },
    {
      "cell_type": "code",
      "metadata": {
        "id": "SncQZI7I14Pn",
        "outputId": "39f1d760-c7b6-4bd8-cbe3-dd71427c2fa9",
        "colab": {
          "base_uri": "https://localhost:8080/",
          "height": 34
        }
      },
      "source": [
        "roads2 = [[2, 3, 1],\n",
        "         [3, 0, 0],\n",
        "         [2, 0, 2]]\n",
        "\n",
        "namingRoads(roads2)"
      ],
      "execution_count": null,
      "outputs": [
        {
          "output_type": "execute_result",
          "data": {
            "text/plain": [
              "False"
            ]
          },
          "metadata": {
            "tags": []
          },
          "execution_count": 17
        }
      ]
    },
    {
      "cell_type": "markdown",
      "metadata": {
        "id": "Ob90qKRlwA3_"
      },
      "source": [
        "### 6 - Great Renaming"
      ]
    },
    {
      "cell_type": "code",
      "metadata": {
        "id": "k0TIDa49wB_p",
        "outputId": "6b884abc-6ddd-471a-f069-b57301f9096f",
        "colab": {
          "base_uri": "https://localhost:8080/",
          "height": 84
        }
      },
      "source": [
        "to_fix = \"\"\"[[false, true,  true,  false],\n",
        "                [true,  false, true,  false],\n",
        "                [true,  true,  false, true ],\n",
        "                [false, false, true,  false]]\"\"\"\n",
        "\n",
        "def tf_fixer(array):\n",
        "    outside = []\n",
        "\n",
        "    for arr in array.split(']'):\n",
        "        inside = []\n",
        "        # print(arr)\n",
        "        for word in arr.split():\n",
        "\n",
        "            # print('Word', word)\n",
        "            if 'true' in word:\n",
        "                inside.append(True)\n",
        "            elif 'false' in word:\n",
        "                inside.append(False)\n",
        "\n",
        "            # print('Inside', inside)\n",
        "        \n",
        "        if inside:\n",
        "            outside.append(inside)\n",
        "\n",
        "        # print('Outside', outside)\n",
        "\n",
        "    return outside\n",
        "\n",
        "tf_fixer(to_fix)"
      ],
      "execution_count": null,
      "outputs": [
        {
          "output_type": "execute_result",
          "data": {
            "text/plain": [
              "[[False, True, True, False],\n",
              " [True, False, True, False],\n",
              " [True, True, False, True],\n",
              " [False, False, True, False]]"
            ]
          },
          "metadata": {
            "tags": []
          },
          "execution_count": 31
        }
      ]
    },
    {
      "cell_type": "code",
      "metadata": {
        "id": "0DN_QDE7ACkq",
        "outputId": "8ebe34b0-774b-4865-fd0a-39df5f08ad87",
        "colab": {
          "base_uri": "https://localhost:8080/",
          "height": 84
        }
      },
      "source": [
        "roadRegister = tf_fixer(\"\"\"[[false, true,  true,  false],\n",
        "                [true,  false, true,  false],\n",
        "                [true,  true,  false, true ],\n",
        "                [false, false, true,  false]]\"\"\")\n",
        "roadRegister"
      ],
      "execution_count": null,
      "outputs": [
        {
          "output_type": "execute_result",
          "data": {
            "text/plain": [
              "[[False, True, True, False],\n",
              " [True, False, True, False],\n",
              " [True, True, False, True],\n",
              " [False, False, True, False]]"
            ]
          },
          "metadata": {
            "tags": []
          },
          "execution_count": 32
        }
      ]
    },
    {
      "cell_type": "code",
      "metadata": {
        "id": "Kx0eS55nAJI7",
        "outputId": "13a2132c-2abd-48d5-b54b-604b3321d0d0",
        "colab": {
          "base_uri": "https://localhost:8080/",
          "height": 756
        }
      },
      "source": [
        "def greatRenaming(roadRegister):\n",
        "    length = len(roadRegister)\n",
        "    new = []\n",
        "    for i in range(length):\n",
        "        new_layer = []\n",
        "        # print((i+length-1)%length)\n",
        "        # print(roadRegister[((i+length-1)%length)])\n",
        "        for j in range(length):\n",
        "            # print((j+length-1)%length)\n",
        "            # print(roadRegister[(i+length-1)%length][(j+length-1)%length])\n",
        "            new_layer.append(roadRegister[(i+length-1)%length][(j+length-1)%length])\n",
        "        new.append(new_layer)\n",
        "    \n",
        "    return new\n",
        "\n",
        "greatRenaming(roadRegister)"
      ],
      "execution_count": null,
      "outputs": [
        {
          "output_type": "stream",
          "text": [
            "3\n",
            "[False, False, True, False]\n",
            "3\n",
            "False\n",
            "0\n",
            "False\n",
            "1\n",
            "False\n",
            "2\n",
            "True\n",
            "0\n",
            "[False, True, True, False]\n",
            "3\n",
            "False\n",
            "0\n",
            "False\n",
            "1\n",
            "True\n",
            "2\n",
            "True\n",
            "1\n",
            "[True, False, True, False]\n",
            "3\n",
            "False\n",
            "0\n",
            "True\n",
            "1\n",
            "False\n",
            "2\n",
            "True\n",
            "2\n",
            "[True, True, False, True]\n",
            "3\n",
            "True\n",
            "0\n",
            "True\n",
            "1\n",
            "True\n",
            "2\n",
            "False\n"
          ],
          "name": "stdout"
        },
        {
          "output_type": "execute_result",
          "data": {
            "text/plain": [
              "[[False, False, False, True],\n",
              " [False, False, True, True],\n",
              " [False, True, False, True],\n",
              " [True, True, True, False]]"
            ]
          },
          "metadata": {
            "tags": []
          },
          "execution_count": 52
        }
      ]
    },
    {
      "cell_type": "markdown",
      "metadata": {
        "id": "zN4vhBZSwCP5"
      },
      "source": [
        "### 7 - Cities Conquering"
      ]
    },
    {
      "cell_type": "code",
      "metadata": {
        "id": "Q1poSoeiwDVb"
      },
      "source": [
        "n = 10\n",
        "roads = [[1,0], [1,2], [8,5], [9,7], [5,6], [5,4], [4,6], [6,7]]"
      ],
      "execution_count": null,
      "outputs": []
    },
    {
      "cell_type": "code",
      "metadata": {
        "id": "f3U5cIpqIUhY",
        "outputId": "b1fdffb9-e33e-4e03-b6c0-705edcefee0f",
        "colab": {
          "base_uri": "https://localhost:8080/",
          "height": 34
        }
      },
      "source": [
        "def citiesConquering(n, roads):\n",
        "    outcome = [-1 for _ in range(n)]\n",
        "\n",
        "    # print(outcome)\n",
        "\n",
        "    connections = {}\n",
        "    for i in range(n):\n",
        "        connections[i] = set()\n",
        "\n",
        "    for road in roads:\n",
        "        connections[road[0]].add(road[1])\n",
        "        connections[road[1]].add(road[0])\n",
        "\n",
        "    # print(connections)\n",
        "\n",
        "    conquered = set()\n",
        "    day = 0\n",
        "\n",
        "    while True:\n",
        "        found = False\n",
        "        day += 1\n",
        "        new = set()\n",
        "        for city, cons in connections.items():\n",
        "            # print(city, cons, len(cons))\n",
        "            cons -= conquered\n",
        "            # print(city, cons, len(cons))\n",
        "            if len(cons) <= 1:\n",
        "                outcome[city] = day\n",
        "                found = True\n",
        "                new.add(city)\n",
        "\n",
        "        # print('new', new)\n",
        "    \n",
        "        if new:\n",
        "            for city in new:\n",
        "                del connections[city]\n",
        "\n",
        "        conquered = conquered.union(new)\n",
        "\n",
        "        # print('conquered', conquered)\n",
        "        \n",
        "        if not found:\n",
        "            break\n",
        "\n",
        "\n",
        "\n",
        "    return outcome\n",
        "\n",
        "citiesConquering(n, roads)"
      ],
      "execution_count": null,
      "outputs": [
        {
          "output_type": "execute_result",
          "data": {
            "text/plain": [
              "[1, 2, 1, 1, -1, -1, -1, 2, 1, 1]"
            ]
          },
          "metadata": {
            "tags": []
          },
          "execution_count": 80
        }
      ]
    },
    {
      "cell_type": "code",
      "metadata": {
        "id": "wDGyUSW6OYf4",
        "outputId": "4f604e32-8867-42dd-ae06-32190e936882",
        "colab": {
          "base_uri": "https://localhost:8080/",
          "height": 34
        }
      },
      "source": [
        "n = 5\n",
        "roads = []\n",
        "\n",
        "citiesConquering(n, roads)"
      ],
      "execution_count": null,
      "outputs": [
        {
          "output_type": "execute_result",
          "data": {
            "text/plain": [
              "[1, 1, 1, 1, 1]"
            ]
          },
          "metadata": {
            "tags": []
          },
          "execution_count": 81
        }
      ]
    },
    {
      "cell_type": "markdown",
      "metadata": {
        "id": "rjXc-yjowEVx"
      },
      "source": [
        "### 8 - Merging Cities"
      ]
    },
    {
      "cell_type": "code",
      "metadata": {
        "id": "oEsvR7WwwFjb",
        "outputId": "99d63579-6eda-49b0-e9af-034899f72844",
        "colab": {
          "base_uri": "https://localhost:8080/",
          "height": 134
        }
      },
      "source": [
        "to_fix = \"\"\"[[false,true,true,false,false,false,true], \n",
        " [true,false,true,false,true,false,false], \n",
        " [true,true,false,true,false,false,true], \n",
        " [false,false,true,false,false,true,true], \n",
        " [false,true,false,false,false,false,false], \n",
        " [false,false,false,true,false,false,false], \n",
        " [true,false,true,true,false,false,false]]\"\"\"\n",
        "\n",
        "def tf_fixer(array):\n",
        "    outside = []\n",
        "\n",
        "    for arr in array.split(']'):\n",
        "        inside = []\n",
        "        # print(arr)\n",
        "        for word in arr.split(','):\n",
        "\n",
        "            # print('Word', word)\n",
        "            if 'true' in word:\n",
        "                inside.append(True)\n",
        "            elif 'false' in word:\n",
        "                inside.append(False)\n",
        "\n",
        "            # print('Inside', inside)\n",
        "        \n",
        "        if inside:\n",
        "            outside.append(inside)\n",
        "\n",
        "        # print('Outside', outside)\n",
        "\n",
        "    return outside\n",
        "\n",
        "test1 = tf_fixer(to_fix)\n",
        "test1"
      ],
      "execution_count": 3,
      "outputs": [
        {
          "output_type": "execute_result",
          "data": {
            "text/plain": [
              "[[False, True, True, False, False, False, True],\n",
              " [True, False, True, False, True, False, False],\n",
              " [True, True, False, True, False, False, True],\n",
              " [False, False, True, False, False, True, True],\n",
              " [False, True, False, False, False, False, False],\n",
              " [False, False, False, True, False, False, False],\n",
              " [True, False, True, True, False, False, False]]"
            ]
          },
          "metadata": {
            "tags": []
          },
          "execution_count": 3
        }
      ]
    },
    {
      "cell_type": "code",
      "metadata": {
        "id": "O_s-vWIHyUOi",
        "outputId": "ea9bb13b-5b9c-4251-c782-770746af36d5",
        "colab": {
          "base_uri": "https://localhost:8080/",
          "height": 386
        }
      },
      "source": [
        "def mergingCities(roadRegister):\n",
        "    # Create dictionary for current city connections\n",
        "    connections = {}\n",
        "    for i in range(len(roadRegister)):\n",
        "        connections[i] = set()\n",
        "    \n",
        "    print(connections)\n",
        "\n",
        "    # Populate the connections from the roadRegister\n",
        "    for i, city in enumerate(roadRegister):\n",
        "        for j, road in enumerate(city):\n",
        "            if road:\n",
        "                connections[i].add(j)\n",
        "    \n",
        "    print(connections)\n",
        "\n",
        "    # Iterate over every even numbered city to check if connected to the next \n",
        "    # sequential numbered city and add to new connections dictionary\n",
        "    new_connections = {}\n",
        "    merged = set()\n",
        "\n",
        "    for i in range(0,len(roadRegister),2):\n",
        "        if i+1 in connections[i]:\n",
        "            print(i, i+1, True)\n",
        "            print(connections[i].union(connections[i+1]) - {i, i+1})\n",
        "            new_connections[i] = connections[i].union(connections[i+1]) - {i, i+1}\n",
        "            merged.add(i+1)\n",
        "        else:\n",
        "            new_connections[i] = connections[i]\n",
        "            if i+1 in connections:\n",
        "                new_connections[i+1] = connections[i+1]\n",
        "    \n",
        "    print(new_connections)\n",
        "    print(merged)\n",
        "\n",
        "    # Go through the values and replace instances of cities that have been merged\n",
        "    for city, roads in new_connections.items():\n",
        "        for num in merged:\n",
        "            if num in roads:\n",
        "                roads.add(num-1)\n",
        "                roads -= {num}\n",
        "    \n",
        "    print(new_connections)\n",
        "\n",
        "    # Rename all cities and connections\n",
        "    new_id = 0\n",
        "    remap = {}\n",
        "    for city in new_connections.keys():\n",
        "        remap[city] = new_id\n",
        "        new_id += 1\n",
        "\n",
        "    print(remap)\n",
        "\n",
        "    final_connections = {}\n",
        "    for city, roads in new_connections.items():\n",
        "        final_connections[remap[city]] = set()\n",
        "        for road in roads:\n",
        "            final_connections[remap[city]].add(remap[road])\n",
        "    \n",
        "    print(final_connections)\n",
        "\n",
        "    # Create array to return from function with new roadRegister\n",
        "    outside = []\n",
        "\n",
        "    for city, roads in final_connections.items():\n",
        "        inside = []\n",
        "        for i in range(len(final_connections)):\n",
        "            if i in roads:\n",
        "                inside.append(True)\n",
        "            else:\n",
        "                inside.append(False)\n",
        "        print(inside)\n",
        "        outside.append(inside)\n",
        "\n",
        "    print(outside)\n",
        "    return outside\n",
        "\n",
        "mergingCities(test1)"
      ],
      "execution_count": 28,
      "outputs": [
        {
          "output_type": "stream",
          "text": [
            "{0: set(), 1: set(), 2: set(), 3: set(), 4: set(), 5: set(), 6: set()}\n",
            "{0: {1, 2, 6}, 1: {0, 2, 4}, 2: {0, 1, 3, 6}, 3: {2, 5, 6}, 4: {1}, 5: {3}, 6: {0, 2, 3}}\n",
            "0 1 True\n",
            "{2, 4, 6}\n",
            "2 3 True\n",
            "{0, 1, 5, 6}\n",
            "{0: {2, 4, 6}, 2: {0, 1, 5, 6}, 4: {1}, 5: {3}, 6: {0, 2, 3}}\n",
            "{1, 3}\n",
            "{0: {2, 4, 6}, 2: {0, 5, 6}, 4: {0}, 5: {2}, 6: {0, 2}}\n",
            "{0: 0, 2: 1, 4: 2, 5: 3, 6: 4}\n",
            "{0: {1, 2, 4}, 1: {0, 3, 4}, 2: {0}, 3: {1}, 4: {0, 1}}\n",
            "[False, True, True, False, True]\n",
            "[True, False, False, True, True]\n",
            "[True, False, False, False, False]\n",
            "[False, True, False, False, False]\n",
            "[True, True, False, False, False]\n",
            "[[False, True, True, False, True], [True, False, False, True, True], [True, False, False, False, False], [False, True, False, False, False], [True, True, False, False, False]]\n"
          ],
          "name": "stdout"
        },
        {
          "output_type": "execute_result",
          "data": {
            "text/plain": [
              "[[False, True, True, False, True],\n",
              " [True, False, False, True, True],\n",
              " [True, False, False, False, False],\n",
              " [False, True, False, False, False],\n",
              " [True, True, False, False, False]]"
            ]
          },
          "metadata": {
            "tags": []
          },
          "execution_count": 28
        }
      ]
    },
    {
      "cell_type": "markdown",
      "metadata": {
        "id": "uD8Mf0kTwF8m"
      },
      "source": [
        "### 9 - Living on the Roads"
      ]
    },
    {
      "cell_type": "code",
      "metadata": {
        "id": "2iQZgUUQwG9s",
        "outputId": "59c1607d-32ac-4851-8fa6-c9311fe20581",
        "colab": {
          "base_uri": "https://localhost:8080/",
          "height": 118
        }
      },
      "source": [
        "to_fix = \"\"\"[\n",
        "  [false, true,  true,  false, false, false],\n",
        "  [true,  false, false, true,  false, false],\n",
        "  [true,  false, false, false, false, false],\n",
        "  [false, true,  false, false, false, false],\n",
        "  [false, false, false, false, false, true ],\n",
        "  [false, false, false, false, true,  false]\n",
        "]\"\"\"\n",
        "\n",
        "roadRegister = tf_fixer(to_fix)\n",
        "roadRegister"
      ],
      "execution_count": 29,
      "outputs": [
        {
          "output_type": "execute_result",
          "data": {
            "text/plain": [
              "[[False, True, True, False, False, False],\n",
              " [True, False, False, True, False, False],\n",
              " [True, False, False, False, False, False],\n",
              " [False, True, False, False, False, False],\n",
              " [False, False, False, False, False, True],\n",
              " [False, False, False, False, True, False]]"
            ]
          },
          "metadata": {
            "tags": []
          },
          "execution_count": 29
        }
      ]
    },
    {
      "cell_type": "code",
      "metadata": {
        "id": "7ZjqgAn2NNWu",
        "outputId": "931bc457-4961-4246-9d52-c2953aea5717",
        "colab": {
          "base_uri": "https://localhost:8080/",
          "height": 185
        }
      },
      "source": [
        "def livingOnTheRoads(roadRegister):\n",
        "    # Map the connections from the roadRegister\n",
        "    connections = {}\n",
        "    for i in range(len(roadRegister)):\n",
        "        connections[i] = set()\n",
        "\n",
        "    print(connections)\n",
        "\n",
        "    # Populate the connections dictionary\n",
        "    for i, city in enumerate(roadRegister):\n",
        "        for j, road in enumerate(city):\n",
        "            if road:\n",
        "                connections[i].add(j)\n",
        "    \n",
        "    print(connections)\n",
        "\n",
        "    # Create new cities from the road connections\n",
        "    roads_to_cities = set()\n",
        "\n",
        "    for city, roads in connections.items():\n",
        "        for road in roads:\n",
        "            # Add the sorted arrangement\n",
        "            roads_to_cities.add(tuple(sorted([city, road])))\n",
        "    \n",
        "    # Sort the new cities\n",
        "    roads_to_cities = sorted(list(roads_to_cities))\n",
        "    \n",
        "    print(roads_to_cities)\n",
        "\n",
        "    # New cities dictionary\n",
        "    new_cities = {}\n",
        "    for i in range(len(roads_to_cities)):\n",
        "        new_cities[i] = set()\n",
        "        # j, k = roads_to_cities[i]\n",
        "        # new_cities[i].add(j)\n",
        "        # new_cities[i].add(k)\n",
        "\n",
        "    print(new_cities) \n",
        "\n",
        "    # Populate the new cities dictionary with new connections\n",
        "    if new_cities:\n",
        "        for i in range(len(roads_to_cities)-1):\n",
        "            # print(roads_to_cities[i])\n",
        "            for j, couple in enumerate(roads_to_cities[i+1:]):\n",
        "                # print(i, j, couple, new_cities[i])\n",
        "                # print(roads_to_cities[i][0], roads_to_cities[i][1], roads_to_cities[j])\n",
        "                # print(roads_to_cities[i][0] in roads_to_cities[j] or roads_to_cities[i][1] in roads_to_cities[j])\n",
        "                if (roads_to_cities[i][0] in roads_to_cities[i+j+1]) or (roads_to_cities[i][1] in roads_to_cities[i+j+1]):\n",
        "                    new_cities[i].add(i+j+1)\n",
        "                    new_cities[i+j+1].add(i)\n",
        "    \n",
        "    print(new_cities)\n",
        "\n",
        "    # Create array to return from function\n",
        "    outside = []\n",
        "\n",
        "    for roads in new_cities.values():\n",
        "        inside = []\n",
        "        for i in range(len(new_cities)):\n",
        "            if i in roads:\n",
        "                inside.append(True)\n",
        "            else:\n",
        "                inside.append(False)\n",
        "        outside.append(inside)\n",
        "\n",
        "    print(outside)\n",
        "    return outside\n",
        "\n",
        "livingOnTheRoads(roadRegister)"
      ],
      "execution_count": 72,
      "outputs": [
        {
          "output_type": "stream",
          "text": [
            "{0: set(), 1: set(), 2: set(), 3: set(), 4: set(), 5: set()}\n",
            "{0: {1, 2}, 1: {0, 3}, 2: {0}, 3: {1}, 4: {5}, 5: {4}}\n",
            "[(0, 1), (0, 2), (1, 3), (4, 5)]\n",
            "{0: set(), 1: set(), 2: set(), 3: set()}\n",
            "{0: {1, 2}, 1: {0}, 2: {0}, 3: set()}\n",
            "[[False, True, True, False], [True, False, False, False], [True, False, False, False], [False, False, False, False]]\n"
          ],
          "name": "stdout"
        },
        {
          "output_type": "execute_result",
          "data": {
            "text/plain": [
              "[[False, True, True, False],\n",
              " [True, False, False, False],\n",
              " [True, False, False, False],\n",
              " [False, False, False, False]]"
            ]
          },
          "metadata": {
            "tags": []
          },
          "execution_count": 72
        }
      ]
    },
    {
      "cell_type": "code",
      "metadata": {
        "id": "--yPCjDFUlJV",
        "outputId": "0e0412ed-8c65-4ff8-a500-e33b63065491",
        "colab": {
          "base_uri": "https://localhost:8080/",
          "height": 101
        }
      },
      "source": [
        "livingOnTheRoads([[False]])"
      ],
      "execution_count": 61,
      "outputs": [
        {
          "output_type": "stream",
          "text": [
            "{0: set()}\n",
            "{0: set()}\n",
            "[]\n",
            "{}\n",
            "{}\n"
          ],
          "name": "stdout"
        }
      ]
    },
    {
      "cell_type": "markdown",
      "metadata": {
        "id": "SZ-uoJ8eMiqd"
      },
      "source": [
        "## Contours of Everything"
      ]
    },
    {
      "cell_type": "markdown",
      "metadata": {
        "id": "znG-OtIfwHbf"
      },
      "source": [
        "### 10"
      ]
    },
    {
      "cell_type": "code",
      "metadata": {
        "id": "PTpq_AjzwIh4"
      },
      "source": [
        ""
      ],
      "execution_count": null,
      "outputs": []
    }
  ]
}