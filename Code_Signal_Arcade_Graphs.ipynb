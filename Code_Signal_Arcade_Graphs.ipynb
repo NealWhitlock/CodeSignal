{
  "nbformat": 4,
  "nbformat_minor": 0,
  "metadata": {
    "colab": {
      "name": "Code Signal - Arcade - Graphs.ipynb",
      "provenance": [],
      "collapsed_sections": [
        "oUtCqAy0Mede",
        "Mm90F0rE5J7v",
        "9AT9czFi5NUn",
        "8HO1DKj-_fiT",
        "GYEjXr-Ct28R",
        "_0iFEsA6v_cw",
        "Ob90qKRlwA3_",
        "zN4vhBZSwCP5",
        "rjXc-yjowEVx",
        "uD8Mf0kTwF8m",
        "znG-OtIfwHbf"
      ],
      "authorship_tag": "ABX9TyNtFWF3JF9NA5eNWiM5Am12",
      "include_colab_link": true
    },
    "kernelspec": {
      "name": "python3",
      "display_name": "Python 3"
    }
  },
  "cells": [
    {
      "cell_type": "markdown",
      "metadata": {
        "id": "view-in-github",
        "colab_type": "text"
      },
      "source": [
        "<a href=\"https://colab.research.google.com/github/NealWhitlock/CodeSignal/blob/main/Code_Signal_Arcade_Graphs.ipynb\" target=\"_parent\"><img src=\"https://colab.research.google.com/assets/colab-badge.svg\" alt=\"Open In Colab\"/></a>"
      ]
    },
    {
      "cell_type": "code",
      "metadata": {
        "id": "WW9-uLA11Ic1"
      },
      "source": [
        "# Function to capitalize an array of True/False conditions\n",
        "def tf_fixer(array):\n",
        "    outside = []\n",
        "\n",
        "    for arr in array.split(']'):\n",
        "        inside = []\n",
        "        # print(arr)\n",
        "        for word in arr.split(','):\n",
        "\n",
        "            # print('Word', word)\n",
        "            if 'true' in word:\n",
        "                inside.append(True)\n",
        "            elif 'false' in word:\n",
        "                inside.append(False)\n",
        "\n",
        "            # print('Inside', inside)\n",
        "        \n",
        "        if inside:\n",
        "            outside.append(inside)\n",
        "\n",
        "        # print('Outside', outside)\n",
        "\n",
        "    return outside"
      ],
      "execution_count": 7,
      "outputs": []
    },
    {
      "cell_type": "markdown",
      "metadata": {
        "id": "oUtCqAy0Mede"
      },
      "source": [
        "## Kingdom Roads"
      ]
    },
    {
      "cell_type": "markdown",
      "metadata": {
        "id": "Mm90F0rE5J7v"
      },
      "source": [
        "### 1 - New Road System"
      ]
    },
    {
      "cell_type": "code",
      "metadata": {
        "id": "EkaihQNemow1"
      },
      "source": [
        "def newRoadSystem(roadRegister):\n",
        "    connections = {}\n",
        "    counts = {}\n",
        "    \n",
        "    for i, city in enumerate(roadRegister):\n",
        "        for j, road in enumerate(city):\n",
        "            if road:\n",
        "                if i in connections:\n",
        "                    connections[i].append(j)\n",
        "                else:\n",
        "                    connections[i] = [j]\n",
        "                \n",
        "                if j in counts:\n",
        "                    counts[j] += 1\n",
        "                else:\n",
        "                    counts[j] = 1\n",
        "    \n",
        "    print(connections, counts)\n",
        "    \n",
        "    for key, value in counts.items():\n",
        "        print(key, value)\n",
        "        if key in connections:\n",
        "            print(len(connections[key]))\n",
        "            if len(connections[key]) == value:\n",
        "                continue\n",
        "            else:\n",
        "                return False\n",
        "        else:\n",
        "            return False\n",
        "    \n",
        "    return True"
      ],
      "execution_count": null,
      "outputs": []
    },
    {
      "cell_type": "code",
      "metadata": {
        "id": "XT5UvkVtmwly"
      },
      "source": [
        "roadRegister = [[False,True,False], \n",
        "                [False,False,False], \n",
        "                [True,False,False]]"
      ],
      "execution_count": null,
      "outputs": []
    },
    {
      "cell_type": "code",
      "metadata": {
        "id": "FpP5FrbAm7XG",
        "outputId": "bc87a86c-6ef7-4435-9684-240685aedca9",
        "colab": {
          "base_uri": "https://localhost:8080/",
          "height": 50
        }
      },
      "source": [
        "newRoadSystem(roadRegister)"
      ],
      "execution_count": null,
      "outputs": [
        {
          "output_type": "stream",
          "text": [
            "{0: [1], 2: [0]} {1: 1, 0: 1}\n"
          ],
          "name": "stdout"
        },
        {
          "output_type": "execute_result",
          "data": {
            "text/plain": [
              "False"
            ]
          },
          "metadata": {
            "tags": []
          },
          "execution_count": 6
        }
      ]
    },
    {
      "cell_type": "code",
      "metadata": {
        "id": "ewnQsTzEnac0"
      },
      "source": [
        "roads = [[False,True,True,True,False], \n",
        "         [True,False,True,True,True], \n",
        "         [True,True,False,True,False], \n",
        "         [True,True,True,False,True], \n",
        "         [True,True,True,True,False]]"
      ],
      "execution_count": null,
      "outputs": []
    },
    {
      "cell_type": "code",
      "metadata": {
        "id": "_Y3s6Eq3nwf8",
        "outputId": "6add3e29-0faf-4015-e738-4bb9cff8d2fc",
        "colab": {
          "base_uri": "https://localhost:8080/",
          "height": 118
        }
      },
      "source": [
        "newRoadSystem(roads)"
      ],
      "execution_count": null,
      "outputs": [
        {
          "output_type": "stream",
          "text": [
            "{0: [1, 2, 3], 1: [0, 2, 3, 4], 2: [0, 1, 3], 3: [0, 1, 2, 4], 4: [0, 1, 2, 3]} {1: 4, 2: 4, 3: 4, 0: 4, 4: 2}\n",
            "1 4\n",
            "4\n",
            "2 4\n",
            "3\n"
          ],
          "name": "stdout"
        },
        {
          "output_type": "execute_result",
          "data": {
            "text/plain": [
              "False"
            ]
          },
          "metadata": {
            "tags": []
          },
          "execution_count": 14
        }
      ]
    },
    {
      "cell_type": "markdown",
      "metadata": {
        "id": "9AT9czFi5NUn"
      },
      "source": [
        "### 2 - Roads Building"
      ]
    },
    {
      "cell_type": "code",
      "metadata": {
        "id": "4GlwpZya5OnA"
      },
      "source": [
        "def roadsBuilding(cities, roads):\n",
        "    # Dictionary to store the existing roads\n",
        "    connections = {}\n",
        "\n",
        "    # Create the city keys in the dictionary\n",
        "    for i in range(cities):\n",
        "        connections[i] = set()\n",
        "    \n",
        "    print(connections)\n",
        "\n",
        "    # Add the roads to the connections\n",
        "    for road in roads:\n",
        "        connections[road[0]].add(road[1])\n",
        "    \n",
        "    print(connections)\n",
        "\n",
        "    added = set()\n",
        "\n",
        "    # Fill in missing connections for all subsequent cities\n",
        "    for i in range(cities):\n",
        "        print(i)\n",
        "        for city, roads in connections.items():\n",
        "            print(city, roads)\n",
        "            if i > city:\n",
        "                if (i not in roads) and (city not in connections[i]):\n",
        "                    # connections[city].add(i)\n",
        "                    added.add((city, i))\n",
        "\n",
        "    print(connections)\n",
        "    print(added)\n",
        "\n",
        "    return sorted([[city[0],city[1]] for city in added])"
      ],
      "execution_count": null,
      "outputs": []
    },
    {
      "cell_type": "code",
      "metadata": {
        "id": "aNvpTh5B5Sgh"
      },
      "source": [
        "cities = 4\n",
        "roads = [[0,1], \n",
        "         [1,2], \n",
        "         [2,0]]"
      ],
      "execution_count": null,
      "outputs": []
    },
    {
      "cell_type": "code",
      "metadata": {
        "id": "O-9NSYlm5syV",
        "outputId": "0bf00168-0024-476c-ecc7-dbd9bb576c39",
        "colab": {
          "base_uri": "https://localhost:8080/",
          "height": 437
        }
      },
      "source": [
        "roadsBuilding(cities, roads)"
      ],
      "execution_count": null,
      "outputs": [
        {
          "output_type": "stream",
          "text": [
            "{0: set(), 1: set(), 2: set(), 3: set()}\n",
            "{0: {1}, 1: {2}, 2: {0}, 3: set()}\n",
            "0\n",
            "0 {1}\n",
            "1 {2}\n",
            "2 {0}\n",
            "3 set()\n",
            "1\n",
            "0 {1}\n",
            "1 {2}\n",
            "2 {0}\n",
            "3 set()\n",
            "2\n",
            "0 {1}\n",
            "1 {2}\n",
            "2 {0}\n",
            "3 set()\n",
            "3\n",
            "0 {1}\n",
            "1 {2}\n",
            "2 {0}\n",
            "3 set()\n",
            "{0: {1}, 1: {2}, 2: {0}, 3: set()}\n",
            "{(0, 3), (1, 3), (2, 3)}\n"
          ],
          "name": "stdout"
        },
        {
          "output_type": "execute_result",
          "data": {
            "text/plain": [
              "[[0, 3], [1, 3], [2, 3]]"
            ]
          },
          "metadata": {
            "tags": []
          },
          "execution_count": 45
        }
      ]
    },
    {
      "cell_type": "markdown",
      "metadata": {
        "id": "8HO1DKj-_fiT"
      },
      "source": [
        "### 3 - Efficient Road Network"
      ]
    },
    {
      "cell_type": "code",
      "metadata": {
        "id": "NpwabZoo_gsT"
      },
      "source": [
        "def efficientRoadNetwork(n, roads):\n",
        "    connections = {}\n",
        "    for i in range(n):\n",
        "        connections[i] = set()\n",
        "\n",
        "    print(connections)\n",
        "    \n",
        "    for road in roads:\n",
        "        connections[road[0]].add(road[1])\n",
        "        connections[road[1]].add(road[0])\n",
        "    \n",
        "    print(connections)\n",
        "\n",
        "    for city, connected_cities in connections.items():\n",
        "        for i in range(n):\n",
        "            if i not in connected_cities:\n",
        "                within_two = False\n",
        "                for connect in connected_cities:\n",
        "                    if i in connections[connect]:\n",
        "                        within_two = True\n",
        "            if not within_two:\n",
        "                if n == 1:\n",
        "                    return True\n",
        "                else:\n",
        "                    return False\n",
        "    \n",
        "    return True"
      ],
      "execution_count": null,
      "outputs": []
    },
    {
      "cell_type": "code",
      "metadata": {
        "id": "FfhsMTNTqq62"
      },
      "source": [
        "n = 6\n",
        "roads = [[3,0], \n",
        "         [0,4], \n",
        "         [5,0], \n",
        "         [2,1], \n",
        "         [1,4], \n",
        "         [2,3], \n",
        "         [5,2]]\n",
        "\n",
        "roads2 = [[0, 4], [5, 0], [2, 1],\n",
        "          [1, 4], [2, 3], [5, 2]]"
      ],
      "execution_count": null,
      "outputs": []
    },
    {
      "cell_type": "code",
      "metadata": {
        "id": "DEF-56rMrVXP",
        "outputId": "3fb7febd-6c2a-4b71-a2c7-19050ecacf7f",
        "colab": {
          "base_uri": "https://localhost:8080/",
          "height": 67
        }
      },
      "source": [
        "efficientRoadNetwork(n, roads)"
      ],
      "execution_count": null,
      "outputs": [
        {
          "output_type": "stream",
          "text": [
            "{0: set(), 1: set(), 2: set(), 3: set(), 4: set(), 5: set()}\n",
            "{0: {3, 4, 5}, 1: {2, 4}, 2: {1, 3, 5}, 3: {0, 2}, 4: {0, 1}, 5: {0, 2}}\n"
          ],
          "name": "stdout"
        },
        {
          "output_type": "execute_result",
          "data": {
            "text/plain": [
              "True"
            ]
          },
          "metadata": {
            "tags": []
          },
          "execution_count": 6
        }
      ]
    },
    {
      "cell_type": "code",
      "metadata": {
        "id": "auw1N8dmtSxE",
        "outputId": "5dd9f748-6fc5-48c9-b4ae-b983130770d3",
        "colab": {
          "base_uri": "https://localhost:8080/",
          "height": 67
        }
      },
      "source": [
        "efficientRoadNetwork(n, roads2)"
      ],
      "execution_count": null,
      "outputs": [
        {
          "output_type": "stream",
          "text": [
            "{0: set(), 1: set(), 2: set(), 3: set(), 4: set(), 5: set()}\n",
            "{0: {4, 5}, 1: {2, 4}, 2: {1, 3, 5}, 3: {2}, 4: {0, 1}, 5: {0, 2}}\n"
          ],
          "name": "stdout"
        },
        {
          "output_type": "execute_result",
          "data": {
            "text/plain": [
              "False"
            ]
          },
          "metadata": {
            "tags": []
          },
          "execution_count": 8
        }
      ]
    },
    {
      "cell_type": "markdown",
      "metadata": {
        "id": "GYEjXr-Ct28R"
      },
      "source": [
        "### 4 - Financial Crisis"
      ]
    },
    {
      "cell_type": "code",
      "metadata": {
        "id": "cfhU8Jslt4Bg",
        "outputId": "97d48f38-1ed4-4478-9aed-320e370f97cc",
        "colab": {
          "base_uri": "https://localhost:8080/",
          "height": 35
        }
      },
      "source": [
        "fixer = \"\"\"roadRegister = [[false, true,  true,  false],\n",
        "                [true,  false, true,  false],\n",
        "                [true,  true,  false, true ],\n",
        "                [false, false, true,  false]]\"\"\"\n",
        "\n",
        "new = ''\n",
        "\n",
        "for word in fixer.split():\n",
        "    # print(word)\n",
        "    if 'true' in word or 'false' in word:\n",
        "        if word[0] == '[':\n",
        "            if word[1] == '[':\n",
        "                new += '[[' + word[2:].capitalize()\n",
        "            else:\n",
        "                new += '[' + word[1:].capitalize()\n",
        "        else:\n",
        "            new += word.capitalize()\n",
        "    else:\n",
        "        new += word\n",
        "\n",
        "\n",
        "new"
      ],
      "execution_count": null,
      "outputs": [
        {
          "output_type": "execute_result",
          "data": {
            "application/vnd.google.colaboratory.intrinsic+json": {
              "type": "string"
            },
            "text/plain": [
              "'roadRegister=[[False,True,True,False],[True,False,True,False],[True,True,False,True],[False,False,True,False]]'"
            ]
          },
          "metadata": {
            "tags": []
          },
          "execution_count": 18
        }
      ]
    },
    {
      "cell_type": "code",
      "metadata": {
        "id": "_kgFifam01ED"
      },
      "source": [
        "roadRegister=[[False,True,True,False],[True,False,True,False],[True,True,False,True],[False,False,True,False]]"
      ],
      "execution_count": null,
      "outputs": []
    },
    {
      "cell_type": "code",
      "metadata": {
        "id": "lilx23vL2zwj"
      },
      "source": [
        "def financialCrisis(roadRegister):\n",
        "    connections = {}\n",
        "\n",
        "    for i in range(len(roadRegister)):\n",
        "        for j in range(len(roadRegister[i])):\n",
        "            # print(i, j)\n",
        "            if roadRegister[i][j]:\n",
        "                if i in connections:\n",
        "                    connections[i].add(j)\n",
        "                else:\n",
        "                    connections[i] = {j}\n",
        "    \n",
        "    print(connections)\n",
        "\n",
        "    for city in connections.keys():\n",
        "        print(city, connections[city])\n",
        "    \n",
        "    for i in range(len(connections)):\n",
        "        print(i)\n",
        "        new_roads = []\n",
        "        for city, roads in connections.items():\n",
        "            if city != i:\n",
        "                "
      ],
      "execution_count": null,
      "outputs": []
    },
    {
      "cell_type": "code",
      "metadata": {
        "id": "hTAYxAUs3ie7",
        "outputId": "a34ee84e-4d28-45b4-be2d-3949adceb470",
        "colab": {
          "base_uri": "https://localhost:8080/",
          "height": 168
        }
      },
      "source": [
        "financialCrisis(roadRegister)"
      ],
      "execution_count": null,
      "outputs": [
        {
          "output_type": "stream",
          "text": [
            "{0: {1, 2}, 1: {0, 2}, 2: {0, 1, 3}, 3: {2}}\n",
            "0 {1, 2}\n",
            "1 {0, 2}\n",
            "2 {0, 1, 3}\n",
            "3 {2}\n",
            "0\n",
            "1\n",
            "2\n",
            "3\n"
          ],
          "name": "stdout"
        }
      ]
    },
    {
      "cell_type": "code",
      "metadata": {
        "id": "N22Npyqu3yfr",
        "outputId": "9c8f0dbd-74d9-4180-c7be-37d48a867388",
        "colab": {
          "base_uri": "https://localhost:8080/",
          "height": 84
        }
      },
      "source": [
        "def financialCrisis(roadRegister):\n",
        "    possibles = []\n",
        "    num_cities = len(roadRegister)\n",
        "    # Loop through each city to get map as though this city was removed\n",
        "    for i in range(num_cities):\n",
        "        # print(i)\n",
        "#        print(roadRegister[i])\n",
        "        new_map = []\n",
        "        # Loop over each city and don't add the row for the ith city\n",
        "        for j in range(num_cities):\n",
        "            #print(j, roadRegister[j])\n",
        "            if j != i:\n",
        "                # print(j, roadRegister[j])\n",
        "                new_roads = []\n",
        "                for k in range(num_cities):\n",
        "                    #print(k, roadRegister[j][k])\n",
        "                    if k != i:\n",
        "                        # print(k, roadRegister[j][k])\n",
        "                        new_roads.append(roadRegister[j][k])\n",
        "\n",
        "                new_map.append(new_roads)\n",
        "        possibles.append(new_map)\n",
        "    \n",
        "    return possibles\n",
        "\n",
        "financialCrisis(roadRegister)"
      ],
      "execution_count": null,
      "outputs": [
        {
          "output_type": "execute_result",
          "data": {
            "text/plain": [
              "[[[False, True, False], [True, False, True], [False, True, False]],\n",
              " [[False, True, False], [True, False, True], [False, True, False]],\n",
              " [[False, True, False], [True, False, False], [False, False, False]],\n",
              " [[False, True, True], [True, False, True], [True, True, False]]]"
            ]
          },
          "metadata": {
            "tags": []
          },
          "execution_count": 58
        }
      ]
    },
    {
      "cell_type": "code",
      "metadata": {
        "id": "ItaZRT6q7UVo",
        "outputId": "61782efc-6ade-4e6e-cfc8-f728427ed0ed",
        "colab": {
          "base_uri": "https://localhost:8080/",
          "height": 420
        }
      },
      "source": [
        "def financialCrisis(roadRegister):\n",
        "    possibles = []\n",
        "    num_cities = len(roadRegister)\n",
        "\n",
        "    for i in range(num_cities):\n",
        "        new_map = []\n",
        "        for j in range(num_cities):\n",
        "            if j != i:\n",
        "                new_roads = []\n",
        "                for k in range(num_cities):\n",
        "                    if k != i:\n",
        "                        new_roads.append(roadRegister[j][k])\n",
        "\n",
        "                new_map.append(new_roads)\n",
        "        possibles.append(new_map)\n",
        "    \n",
        "    return possibles"
      ],
      "execution_count": null,
      "outputs": [
        {
          "output_type": "stream",
          "text": [
            "0\n",
            "0\n",
            "1\n",
            "2\n",
            "3\n",
            "1\n",
            "0\n",
            "1\n",
            "2\n",
            "3\n",
            "2\n",
            "0\n",
            "1\n",
            "2\n",
            "3\n",
            "3\n",
            "0\n",
            "1\n",
            "2\n",
            "3\n"
          ],
          "name": "stdout"
        },
        {
          "output_type": "execute_result",
          "data": {
            "text/plain": [
              "[[True, True, False],\n",
              " [True, True, False],\n",
              " [True, True, True],\n",
              " [False, False, True]]"
            ]
          },
          "metadata": {
            "tags": []
          },
          "execution_count": 42
        }
      ]
    },
    {
      "cell_type": "markdown",
      "metadata": {
        "id": "_0iFEsA6v_cw"
      },
      "source": [
        "### 5 - Naming Roads"
      ]
    },
    {
      "cell_type": "code",
      "metadata": {
        "id": "i-wAr8HhwAo-"
      },
      "source": [
        "roads = [[0, 1, 0],\n",
        "         [4, 1, 2],\n",
        "         [4, 3, 4],\n",
        "         [2, 3, 1],\n",
        "         [2, 0, 3]]"
      ],
      "execution_count": null,
      "outputs": []
    },
    {
      "cell_type": "code",
      "metadata": {
        "id": "-i-S29KRzSXD",
        "outputId": "28afa643-1627-4e55-833e-56e1e74e3a56",
        "colab": {
          "base_uri": "https://localhost:8080/",
          "height": 34
        }
      },
      "source": [
        "def namingRoads(roads):\n",
        "    roads_dict = {}\n",
        "    max_road = 0\n",
        "\n",
        "    for road in roads:\n",
        "        roads_dict[road[2]] = {road[0], road[1]}\n",
        "        if road[2] > max_road:\n",
        "            max_road = road[2]\n",
        "    \n",
        "    # print(roads_dict)\n",
        "    # print(max_road)\n",
        "\n",
        "    for i in range(max_road):\n",
        "        if i in roads_dict:\n",
        "            if i+1 in roads_dict:\n",
        "                if roads_dict[i].intersection(roads_dict[i+1]) != set():\n",
        "                    return False\n",
        "    \n",
        "    return True\n",
        "\n",
        "namingRoads(roads)"
      ],
      "execution_count": null,
      "outputs": [
        {
          "output_type": "execute_result",
          "data": {
            "text/plain": [
              "True"
            ]
          },
          "metadata": {
            "tags": []
          },
          "execution_count": 16
        }
      ]
    },
    {
      "cell_type": "code",
      "metadata": {
        "id": "SncQZI7I14Pn",
        "outputId": "39f1d760-c7b6-4bd8-cbe3-dd71427c2fa9",
        "colab": {
          "base_uri": "https://localhost:8080/",
          "height": 34
        }
      },
      "source": [
        "roads2 = [[2, 3, 1],\n",
        "         [3, 0, 0],\n",
        "         [2, 0, 2]]\n",
        "\n",
        "namingRoads(roads2)"
      ],
      "execution_count": null,
      "outputs": [
        {
          "output_type": "execute_result",
          "data": {
            "text/plain": [
              "False"
            ]
          },
          "metadata": {
            "tags": []
          },
          "execution_count": 17
        }
      ]
    },
    {
      "cell_type": "markdown",
      "metadata": {
        "id": "Ob90qKRlwA3_"
      },
      "source": [
        "### 6 - Great Renaming"
      ]
    },
    {
      "cell_type": "code",
      "metadata": {
        "id": "k0TIDa49wB_p",
        "outputId": "6b884abc-6ddd-471a-f069-b57301f9096f",
        "colab": {
          "base_uri": "https://localhost:8080/",
          "height": 84
        }
      },
      "source": [
        "to_fix = \"\"\"[[false, true,  true,  false],\n",
        "                [true,  false, true,  false],\n",
        "                [true,  true,  false, true ],\n",
        "                [false, false, true,  false]]\"\"\"\n",
        "\n",
        "def tf_fixer(array):\n",
        "    outside = []\n",
        "\n",
        "    for arr in array.split(']'):\n",
        "        inside = []\n",
        "        # print(arr)\n",
        "        for word in arr.split():\n",
        "\n",
        "            # print('Word', word)\n",
        "            if 'true' in word:\n",
        "                inside.append(True)\n",
        "            elif 'false' in word:\n",
        "                inside.append(False)\n",
        "\n",
        "            # print('Inside', inside)\n",
        "        \n",
        "        if inside:\n",
        "            outside.append(inside)\n",
        "\n",
        "        # print('Outside', outside)\n",
        "\n",
        "    return outside\n",
        "\n",
        "tf_fixer(to_fix)"
      ],
      "execution_count": null,
      "outputs": [
        {
          "output_type": "execute_result",
          "data": {
            "text/plain": [
              "[[False, True, True, False],\n",
              " [True, False, True, False],\n",
              " [True, True, False, True],\n",
              " [False, False, True, False]]"
            ]
          },
          "metadata": {
            "tags": []
          },
          "execution_count": 31
        }
      ]
    },
    {
      "cell_type": "code",
      "metadata": {
        "id": "0DN_QDE7ACkq",
        "outputId": "8ebe34b0-774b-4865-fd0a-39df5f08ad87",
        "colab": {
          "base_uri": "https://localhost:8080/",
          "height": 84
        }
      },
      "source": [
        "roadRegister = tf_fixer(\"\"\"[[false, true,  true,  false],\n",
        "                [true,  false, true,  false],\n",
        "                [true,  true,  false, true ],\n",
        "                [false, false, true,  false]]\"\"\")\n",
        "roadRegister"
      ],
      "execution_count": null,
      "outputs": [
        {
          "output_type": "execute_result",
          "data": {
            "text/plain": [
              "[[False, True, True, False],\n",
              " [True, False, True, False],\n",
              " [True, True, False, True],\n",
              " [False, False, True, False]]"
            ]
          },
          "metadata": {
            "tags": []
          },
          "execution_count": 32
        }
      ]
    },
    {
      "cell_type": "code",
      "metadata": {
        "id": "Kx0eS55nAJI7",
        "outputId": "13a2132c-2abd-48d5-b54b-604b3321d0d0",
        "colab": {
          "base_uri": "https://localhost:8080/",
          "height": 756
        }
      },
      "source": [
        "def greatRenaming(roadRegister):\n",
        "    length = len(roadRegister)\n",
        "    new = []\n",
        "    for i in range(length):\n",
        "        new_layer = []\n",
        "        # print((i+length-1)%length)\n",
        "        # print(roadRegister[((i+length-1)%length)])\n",
        "        for j in range(length):\n",
        "            # print((j+length-1)%length)\n",
        "            # print(roadRegister[(i+length-1)%length][(j+length-1)%length])\n",
        "            new_layer.append(roadRegister[(i+length-1)%length][(j+length-1)%length])\n",
        "        new.append(new_layer)\n",
        "    \n",
        "    return new\n",
        "\n",
        "greatRenaming(roadRegister)"
      ],
      "execution_count": null,
      "outputs": [
        {
          "output_type": "stream",
          "text": [
            "3\n",
            "[False, False, True, False]\n",
            "3\n",
            "False\n",
            "0\n",
            "False\n",
            "1\n",
            "False\n",
            "2\n",
            "True\n",
            "0\n",
            "[False, True, True, False]\n",
            "3\n",
            "False\n",
            "0\n",
            "False\n",
            "1\n",
            "True\n",
            "2\n",
            "True\n",
            "1\n",
            "[True, False, True, False]\n",
            "3\n",
            "False\n",
            "0\n",
            "True\n",
            "1\n",
            "False\n",
            "2\n",
            "True\n",
            "2\n",
            "[True, True, False, True]\n",
            "3\n",
            "True\n",
            "0\n",
            "True\n",
            "1\n",
            "True\n",
            "2\n",
            "False\n"
          ],
          "name": "stdout"
        },
        {
          "output_type": "execute_result",
          "data": {
            "text/plain": [
              "[[False, False, False, True],\n",
              " [False, False, True, True],\n",
              " [False, True, False, True],\n",
              " [True, True, True, False]]"
            ]
          },
          "metadata": {
            "tags": []
          },
          "execution_count": 52
        }
      ]
    },
    {
      "cell_type": "markdown",
      "metadata": {
        "id": "zN4vhBZSwCP5"
      },
      "source": [
        "### 7 - Cities Conquering"
      ]
    },
    {
      "cell_type": "code",
      "metadata": {
        "id": "Q1poSoeiwDVb"
      },
      "source": [
        "n = 10\n",
        "roads = [[1,0], [1,2], [8,5], [9,7], [5,6], [5,4], [4,6], [6,7]]"
      ],
      "execution_count": null,
      "outputs": []
    },
    {
      "cell_type": "code",
      "metadata": {
        "id": "f3U5cIpqIUhY",
        "outputId": "b1fdffb9-e33e-4e03-b6c0-705edcefee0f",
        "colab": {
          "base_uri": "https://localhost:8080/",
          "height": 34
        }
      },
      "source": [
        "def citiesConquering(n, roads):\n",
        "    outcome = [-1 for _ in range(n)]\n",
        "\n",
        "    # print(outcome)\n",
        "\n",
        "    connections = {}\n",
        "    for i in range(n):\n",
        "        connections[i] = set()\n",
        "\n",
        "    for road in roads:\n",
        "        connections[road[0]].add(road[1])\n",
        "        connections[road[1]].add(road[0])\n",
        "\n",
        "    # print(connections)\n",
        "\n",
        "    conquered = set()\n",
        "    day = 0\n",
        "\n",
        "    while True:\n",
        "        found = False\n",
        "        day += 1\n",
        "        new = set()\n",
        "        for city, cons in connections.items():\n",
        "            # print(city, cons, len(cons))\n",
        "            cons -= conquered\n",
        "            # print(city, cons, len(cons))\n",
        "            if len(cons) <= 1:\n",
        "                outcome[city] = day\n",
        "                found = True\n",
        "                new.add(city)\n",
        "\n",
        "        # print('new', new)\n",
        "    \n",
        "        if new:\n",
        "            for city in new:\n",
        "                del connections[city]\n",
        "\n",
        "        conquered = conquered.union(new)\n",
        "\n",
        "        # print('conquered', conquered)\n",
        "        \n",
        "        if not found:\n",
        "            break\n",
        "\n",
        "\n",
        "\n",
        "    return outcome\n",
        "\n",
        "citiesConquering(n, roads)"
      ],
      "execution_count": null,
      "outputs": [
        {
          "output_type": "execute_result",
          "data": {
            "text/plain": [
              "[1, 2, 1, 1, -1, -1, -1, 2, 1, 1]"
            ]
          },
          "metadata": {
            "tags": []
          },
          "execution_count": 80
        }
      ]
    },
    {
      "cell_type": "code",
      "metadata": {
        "id": "wDGyUSW6OYf4",
        "outputId": "4f604e32-8867-42dd-ae06-32190e936882",
        "colab": {
          "base_uri": "https://localhost:8080/",
          "height": 34
        }
      },
      "source": [
        "n = 5\n",
        "roads = []\n",
        "\n",
        "citiesConquering(n, roads)"
      ],
      "execution_count": null,
      "outputs": [
        {
          "output_type": "execute_result",
          "data": {
            "text/plain": [
              "[1, 1, 1, 1, 1]"
            ]
          },
          "metadata": {
            "tags": []
          },
          "execution_count": 81
        }
      ]
    },
    {
      "cell_type": "markdown",
      "metadata": {
        "id": "rjXc-yjowEVx"
      },
      "source": [
        "### 8 - Merging Cities"
      ]
    },
    {
      "cell_type": "code",
      "metadata": {
        "id": "oEsvR7WwwFjb",
        "outputId": "99d63579-6eda-49b0-e9af-034899f72844",
        "colab": {
          "base_uri": "https://localhost:8080/",
          "height": 134
        }
      },
      "source": [
        "to_fix = \"\"\"[[false,true,true,false,false,false,true], \n",
        " [true,false,true,false,true,false,false], \n",
        " [true,true,false,true,false,false,true], \n",
        " [false,false,true,false,false,true,true], \n",
        " [false,true,false,false,false,false,false], \n",
        " [false,false,false,true,false,false,false], \n",
        " [true,false,true,true,false,false,false]]\"\"\"\n",
        "\n",
        "def tf_fixer(array):\n",
        "    outside = []\n",
        "\n",
        "    for arr in array.split(']'):\n",
        "        inside = []\n",
        "        # print(arr)\n",
        "        for word in arr.split(','):\n",
        "\n",
        "            # print('Word', word)\n",
        "            if 'true' in word:\n",
        "                inside.append(True)\n",
        "            elif 'false' in word:\n",
        "                inside.append(False)\n",
        "\n",
        "            # print('Inside', inside)\n",
        "        \n",
        "        if inside:\n",
        "            outside.append(inside)\n",
        "\n",
        "        # print('Outside', outside)\n",
        "\n",
        "    return outside\n",
        "\n",
        "test1 = tf_fixer(to_fix)\n",
        "test1"
      ],
      "execution_count": null,
      "outputs": [
        {
          "output_type": "execute_result",
          "data": {
            "text/plain": [
              "[[False, True, True, False, False, False, True],\n",
              " [True, False, True, False, True, False, False],\n",
              " [True, True, False, True, False, False, True],\n",
              " [False, False, True, False, False, True, True],\n",
              " [False, True, False, False, False, False, False],\n",
              " [False, False, False, True, False, False, False],\n",
              " [True, False, True, True, False, False, False]]"
            ]
          },
          "metadata": {
            "tags": []
          },
          "execution_count": 3
        }
      ]
    },
    {
      "cell_type": "code",
      "metadata": {
        "id": "O_s-vWIHyUOi",
        "outputId": "ea9bb13b-5b9c-4251-c782-770746af36d5",
        "colab": {
          "base_uri": "https://localhost:8080/",
          "height": 386
        }
      },
      "source": [
        "def mergingCities(roadRegister):\n",
        "    # Create dictionary for current city connections\n",
        "    connections = {}\n",
        "    for i in range(len(roadRegister)):\n",
        "        connections[i] = set()\n",
        "    \n",
        "    print(connections)\n",
        "\n",
        "    # Populate the connections from the roadRegister\n",
        "    for i, city in enumerate(roadRegister):\n",
        "        for j, road in enumerate(city):\n",
        "            if road:\n",
        "                connections[i].add(j)\n",
        "    \n",
        "    print(connections)\n",
        "\n",
        "    # Iterate over every even numbered city to check if connected to the next \n",
        "    # sequential numbered city and add to new connections dictionary\n",
        "    new_connections = {}\n",
        "    merged = set()\n",
        "\n",
        "    for i in range(0,len(roadRegister),2):\n",
        "        if i+1 in connections[i]:\n",
        "            print(i, i+1, True)\n",
        "            print(connections[i].union(connections[i+1]) - {i, i+1})\n",
        "            new_connections[i] = connections[i].union(connections[i+1]) - {i, i+1}\n",
        "            merged.add(i+1)\n",
        "        else:\n",
        "            new_connections[i] = connections[i]\n",
        "            if i+1 in connections:\n",
        "                new_connections[i+1] = connections[i+1]\n",
        "    \n",
        "    print(new_connections)\n",
        "    print(merged)\n",
        "\n",
        "    # Go through the values and replace instances of cities that have been merged\n",
        "    for city, roads in new_connections.items():\n",
        "        for num in merged:\n",
        "            if num in roads:\n",
        "                roads.add(num-1)\n",
        "                roads -= {num}\n",
        "    \n",
        "    print(new_connections)\n",
        "\n",
        "    # Rename all cities and connections\n",
        "    new_id = 0\n",
        "    remap = {}\n",
        "    for city in new_connections.keys():\n",
        "        remap[city] = new_id\n",
        "        new_id += 1\n",
        "\n",
        "    print(remap)\n",
        "\n",
        "    final_connections = {}\n",
        "    for city, roads in new_connections.items():\n",
        "        final_connections[remap[city]] = set()\n",
        "        for road in roads:\n",
        "            final_connections[remap[city]].add(remap[road])\n",
        "    \n",
        "    print(final_connections)\n",
        "\n",
        "    # Create array to return from function with new roadRegister\n",
        "    outside = []\n",
        "\n",
        "    for city, roads in final_connections.items():\n",
        "        inside = []\n",
        "        for i in range(len(final_connections)):\n",
        "            if i in roads:\n",
        "                inside.append(True)\n",
        "            else:\n",
        "                inside.append(False)\n",
        "        print(inside)\n",
        "        outside.append(inside)\n",
        "\n",
        "    print(outside)\n",
        "    return outside\n",
        "\n",
        "mergingCities(test1)"
      ],
      "execution_count": null,
      "outputs": [
        {
          "output_type": "stream",
          "text": [
            "{0: set(), 1: set(), 2: set(), 3: set(), 4: set(), 5: set(), 6: set()}\n",
            "{0: {1, 2, 6}, 1: {0, 2, 4}, 2: {0, 1, 3, 6}, 3: {2, 5, 6}, 4: {1}, 5: {3}, 6: {0, 2, 3}}\n",
            "0 1 True\n",
            "{2, 4, 6}\n",
            "2 3 True\n",
            "{0, 1, 5, 6}\n",
            "{0: {2, 4, 6}, 2: {0, 1, 5, 6}, 4: {1}, 5: {3}, 6: {0, 2, 3}}\n",
            "{1, 3}\n",
            "{0: {2, 4, 6}, 2: {0, 5, 6}, 4: {0}, 5: {2}, 6: {0, 2}}\n",
            "{0: 0, 2: 1, 4: 2, 5: 3, 6: 4}\n",
            "{0: {1, 2, 4}, 1: {0, 3, 4}, 2: {0}, 3: {1}, 4: {0, 1}}\n",
            "[False, True, True, False, True]\n",
            "[True, False, False, True, True]\n",
            "[True, False, False, False, False]\n",
            "[False, True, False, False, False]\n",
            "[True, True, False, False, False]\n",
            "[[False, True, True, False, True], [True, False, False, True, True], [True, False, False, False, False], [False, True, False, False, False], [True, True, False, False, False]]\n"
          ],
          "name": "stdout"
        },
        {
          "output_type": "execute_result",
          "data": {
            "text/plain": [
              "[[False, True, True, False, True],\n",
              " [True, False, False, True, True],\n",
              " [True, False, False, False, False],\n",
              " [False, True, False, False, False],\n",
              " [True, True, False, False, False]]"
            ]
          },
          "metadata": {
            "tags": []
          },
          "execution_count": 28
        }
      ]
    },
    {
      "cell_type": "markdown",
      "metadata": {
        "id": "uD8Mf0kTwF8m"
      },
      "source": [
        "### 9 - Living on the Roads"
      ]
    },
    {
      "cell_type": "code",
      "metadata": {
        "id": "2iQZgUUQwG9s",
        "outputId": "59c1607d-32ac-4851-8fa6-c9311fe20581",
        "colab": {
          "base_uri": "https://localhost:8080/",
          "height": 118
        }
      },
      "source": [
        "to_fix = \"\"\"[\n",
        "  [false, true,  true,  false, false, false],\n",
        "  [true,  false, false, true,  false, false],\n",
        "  [true,  false, false, false, false, false],\n",
        "  [false, true,  false, false, false, false],\n",
        "  [false, false, false, false, false, true ],\n",
        "  [false, false, false, false, true,  false]\n",
        "]\"\"\"\n",
        "\n",
        "roadRegister = tf_fixer(to_fix)\n",
        "roadRegister"
      ],
      "execution_count": null,
      "outputs": [
        {
          "output_type": "execute_result",
          "data": {
            "text/plain": [
              "[[False, True, True, False, False, False],\n",
              " [True, False, False, True, False, False],\n",
              " [True, False, False, False, False, False],\n",
              " [False, True, False, False, False, False],\n",
              " [False, False, False, False, False, True],\n",
              " [False, False, False, False, True, False]]"
            ]
          },
          "metadata": {
            "tags": []
          },
          "execution_count": 29
        }
      ]
    },
    {
      "cell_type": "code",
      "metadata": {
        "id": "7ZjqgAn2NNWu",
        "outputId": "931bc457-4961-4246-9d52-c2953aea5717",
        "colab": {
          "base_uri": "https://localhost:8080/",
          "height": 185
        }
      },
      "source": [
        "def livingOnTheRoads(roadRegister):\n",
        "    # Map the connections from the roadRegister\n",
        "    connections = {}\n",
        "    for i in range(len(roadRegister)):\n",
        "        connections[i] = set()\n",
        "\n",
        "    print(connections)\n",
        "\n",
        "    # Populate the connections dictionary\n",
        "    for i, city in enumerate(roadRegister):\n",
        "        for j, road in enumerate(city):\n",
        "            if road:\n",
        "                connections[i].add(j)\n",
        "    \n",
        "    print(connections)\n",
        "\n",
        "    # Create new cities from the road connections\n",
        "    roads_to_cities = set()\n",
        "\n",
        "    for city, roads in connections.items():\n",
        "        for road in roads:\n",
        "            # Add the sorted arrangement\n",
        "            roads_to_cities.add(tuple(sorted([city, road])))\n",
        "    \n",
        "    # Sort the new cities\n",
        "    roads_to_cities = sorted(list(roads_to_cities))\n",
        "    \n",
        "    print(roads_to_cities)\n",
        "\n",
        "    # New cities dictionary\n",
        "    new_cities = {}\n",
        "    for i in range(len(roads_to_cities)):\n",
        "        new_cities[i] = set()\n",
        "        # j, k = roads_to_cities[i]\n",
        "        # new_cities[i].add(j)\n",
        "        # new_cities[i].add(k)\n",
        "\n",
        "    print(new_cities) \n",
        "\n",
        "    # Populate the new cities dictionary with new connections\n",
        "    if new_cities:\n",
        "        for i in range(len(roads_to_cities)-1):\n",
        "            # print(roads_to_cities[i])\n",
        "            for j, couple in enumerate(roads_to_cities[i+1:]):\n",
        "                # print(i, j, couple, new_cities[i])\n",
        "                # print(roads_to_cities[i][0], roads_to_cities[i][1], roads_to_cities[j])\n",
        "                # print(roads_to_cities[i][0] in roads_to_cities[j] or roads_to_cities[i][1] in roads_to_cities[j])\n",
        "                if (roads_to_cities[i][0] in roads_to_cities[i+j+1]) or (roads_to_cities[i][1] in roads_to_cities[i+j+1]):\n",
        "                    new_cities[i].add(i+j+1)\n",
        "                    new_cities[i+j+1].add(i)\n",
        "    \n",
        "    print(new_cities)\n",
        "\n",
        "    # Create array to return from function\n",
        "    outside = []\n",
        "\n",
        "    for roads in new_cities.values():\n",
        "        inside = []\n",
        "        for i in range(len(new_cities)):\n",
        "            if i in roads:\n",
        "                inside.append(True)\n",
        "            else:\n",
        "                inside.append(False)\n",
        "        outside.append(inside)\n",
        "\n",
        "    print(outside)\n",
        "    return outside\n",
        "\n",
        "livingOnTheRoads(roadRegister)"
      ],
      "execution_count": null,
      "outputs": [
        {
          "output_type": "stream",
          "text": [
            "{0: set(), 1: set(), 2: set(), 3: set(), 4: set(), 5: set()}\n",
            "{0: {1, 2}, 1: {0, 3}, 2: {0}, 3: {1}, 4: {5}, 5: {4}}\n",
            "[(0, 1), (0, 2), (1, 3), (4, 5)]\n",
            "{0: set(), 1: set(), 2: set(), 3: set()}\n",
            "{0: {1, 2}, 1: {0}, 2: {0}, 3: set()}\n",
            "[[False, True, True, False], [True, False, False, False], [True, False, False, False], [False, False, False, False]]\n"
          ],
          "name": "stdout"
        },
        {
          "output_type": "execute_result",
          "data": {
            "text/plain": [
              "[[False, True, True, False],\n",
              " [True, False, False, False],\n",
              " [True, False, False, False],\n",
              " [False, False, False, False]]"
            ]
          },
          "metadata": {
            "tags": []
          },
          "execution_count": 72
        }
      ]
    },
    {
      "cell_type": "code",
      "metadata": {
        "id": "--yPCjDFUlJV",
        "outputId": "0e0412ed-8c65-4ff8-a500-e33b63065491",
        "colab": {
          "base_uri": "https://localhost:8080/",
          "height": 101
        }
      },
      "source": [
        "livingOnTheRoads([[False]])"
      ],
      "execution_count": null,
      "outputs": [
        {
          "output_type": "stream",
          "text": [
            "{0: set()}\n",
            "{0: set()}\n",
            "[]\n",
            "{}\n",
            "{}\n"
          ],
          "name": "stdout"
        }
      ]
    },
    {
      "cell_type": "markdown",
      "metadata": {
        "id": "SZ-uoJ8eMiqd"
      },
      "source": [
        "## Contours of Everything"
      ]
    },
    {
      "cell_type": "markdown",
      "metadata": {
        "id": "znG-OtIfwHbf"
      },
      "source": [
        "### 10 - Is Butterfly"
      ]
    },
    {
      "cell_type": "code",
      "metadata": {
        "id": "PTpq_AjzwIh4",
        "outputId": "99b1edb9-81c5-46f8-a1f7-3bf541bdd828",
        "colab": {
          "base_uri": "https://localhost:8080/",
          "height": 101
        }
      },
      "source": [
        "adj = \"\"\"[[false, true, true, false, false],\n",
        "       [true, false, true, false, false],\n",
        "       [true, true, false, true, true],\n",
        "       [false, false, true, false, true],\n",
        "       [false, false, true, true, false]]\"\"\"\n",
        "\n",
        "adj = tf_fixer(adj)\n",
        "adj"
      ],
      "execution_count": 2,
      "outputs": [
        {
          "output_type": "execute_result",
          "data": {
            "text/plain": [
              "[[False, True, True, False, False],\n",
              " [True, False, True, False, False],\n",
              " [True, True, False, True, True],\n",
              " [False, False, True, False, True],\n",
              " [False, False, True, True, False]]"
            ]
          },
          "metadata": {
            "tags": []
          },
          "execution_count": 2
        }
      ]
    },
    {
      "cell_type": "code",
      "metadata": {
        "id": "Ws4FHmIN1T3X",
        "outputId": "2598e053-e9bf-45e5-b45d-8ac5053a263e",
        "colab": {
          "base_uri": "https://localhost:8080/",
          "height": 269
        }
      },
      "source": [
        "def isButterfly(adj):\n",
        "    # Dictionary to store connections\n",
        "    connections = {}\n",
        "    for i in range(len(adj)):\n",
        "        connections[i] = set()\n",
        "    \n",
        "    # Populate the dictionary values\n",
        "    for i, row in enumerate(adj):\n",
        "        for j, value in enumerate(row):\n",
        "            if value:\n",
        "                connections[i].add(j)\n",
        "    \n",
        "    print(connections)\n",
        "\n",
        "    # Need to check for a center node that connects to all other nodes\n",
        "    # Then check for two sets of wing nodes that connect to each other and the center node\n",
        "    # No node can connect to itself\n",
        "\n",
        "    # Check lengths of nodes. One node must have length 4, 4 nodes with length 2\n",
        "    center = set()\n",
        "    pairs = set()\n",
        "\n",
        "    for node, value in connections.items():\n",
        "        if len(value) == 4:\n",
        "            center.add(node)\n",
        "        elif len(value) == 2:\n",
        "            pairs.add(node)\n",
        "\n",
        "        # Node can't contain itself\n",
        "        if node in value:\n",
        "            return False\n",
        "    \n",
        "    if len(pairs) != 4 or len(center) != 1:\n",
        "        return False\n",
        "    \n",
        "    print(center, pairs)\n",
        "\n",
        "    # Now check wings\n",
        "    # Two sets of nodes that connect to each other and the center\n",
        "    \n",
        "    # Get the center node value\n",
        "    (center,) = center\n",
        "    \n",
        "    # Since the center has a length of 4 and can't connect to itself, it MUST connect\n",
        "    # to each of the other nodes. Let's remove the center from each node's connections\n",
        "    # Then add the remaining single connection to a set \n",
        "    # If the set ends up with a length of 4 then they must have had the appropriate connections\n",
        "    \"\"\" (If the wings had been set up as 3 nodes vs 1 node then the single node wouldn't have two connections)\n",
        "        (If the wings had all been on one side being 4 vs 0 then two of them wouldn't have been connected to the center)\"\"\"\n",
        "    final_test = set()\n",
        "    for node in pairs:\n",
        "        print(connections[node])\n",
        "        connections[node].remove(center)\n",
        "        print(connections[node])\n",
        "        for item in connections[node]:\n",
        "            final_test.add(item)\n",
        "        print(final_test)\n",
        "    \n",
        "    if len(final_test) != 4:\n",
        "        return False\n",
        "    \n",
        "    return True\n",
        "\n",
        "\n",
        "isButterfly(adj)"
      ],
      "execution_count": 15,
      "outputs": [
        {
          "output_type": "stream",
          "text": [
            "{0: {1, 2}, 1: {0, 2}, 2: {0, 1, 3, 4}, 3: {2, 4}, 4: {2, 3}}\n",
            "{2} {0, 1, 3, 4}\n",
            "{1, 2}\n",
            "{1}\n",
            "{1}\n",
            "{0, 2}\n",
            "{0}\n",
            "{0, 1}\n",
            "{2, 4}\n",
            "{4}\n",
            "{0, 1, 4}\n",
            "{2, 3}\n",
            "{3}\n",
            "{0, 1, 3, 4}\n"
          ],
          "name": "stdout"
        },
        {
          "output_type": "execute_result",
          "data": {
            "text/plain": [
              "True"
            ]
          },
          "metadata": {
            "tags": []
          },
          "execution_count": 15
        }
      ]
    },
    {
      "cell_type": "code",
      "metadata": {
        "id": "GyXnTxFa7dzm",
        "outputId": "af554338-6212-4bd8-8cfd-3cfa99700067",
        "colab": {
          "base_uri": "https://localhost:8080/",
          "height": 67
        }
      },
      "source": [
        "test = {0,1,2,3}\n",
        "print(test)\n",
        "test = {0}\n",
        "print(test)\n",
        "(center,) = test\n",
        "center"
      ],
      "execution_count": 11,
      "outputs": [
        {
          "output_type": "stream",
          "text": [
            "{0, 1, 2, 3}\n",
            "{0}\n"
          ],
          "name": "stdout"
        },
        {
          "output_type": "execute_result",
          "data": {
            "text/plain": [
              "0"
            ]
          },
          "metadata": {
            "tags": []
          },
          "execution_count": 11
        }
      ]
    },
    {
      "cell_type": "markdown",
      "metadata": {
        "id": "pzoCZetE0DdR"
      },
      "source": [
        "### 11 - Count Stars"
      ]
    },
    {
      "cell_type": "code",
      "metadata": {
        "id": "e0xYBGe20GDl",
        "outputId": "4048cb4c-9393-4ee5-a898-5e4bec28eac7",
        "colab": {
          "base_uri": "https://localhost:8080/",
          "height": 101
        }
      },
      "source": [
        "adj = \"\"\"[[false, true, false, false, false],\n",
        "       [true, false, false, false, false],\n",
        "       [false, false, false, true, false],\n",
        "       [false, false, true, false, false],\n",
        "       [false, false, false, false, false]]\"\"\"\n",
        "\n",
        "adj = tf_fixer(adj)\n",
        "adj"
      ],
      "execution_count": 8,
      "outputs": [
        {
          "output_type": "execute_result",
          "data": {
            "text/plain": [
              "[[False, True, False, False, False],\n",
              " [True, False, False, False, False],\n",
              " [False, False, False, True, False],\n",
              " [False, False, True, False, False],\n",
              " [False, False, False, False, False]]"
            ]
          },
          "metadata": {
            "tags": []
          },
          "execution_count": 8
        }
      ]
    },
    {
      "cell_type": "code",
      "metadata": {
        "id": "dQg1yxp6jpFW",
        "outputId": "8c8b1304-39ff-4589-a3ff-44e2a0fb9f62",
        "colab": {
          "base_uri": "https://localhost:8080/",
          "height": 101
        }
      },
      "source": [
        "adj2 = \"\"\"[[false,true,false,false,false], \n",
        "        [true,false,false,false,false], \n",
        "        [false,false,false,true,false], \n",
        "        [false,false,true,false,false], \n",
        "        [false,false,false,false,true]]\"\"\"\n",
        "adj2 = tf_fixer(adj2)\n",
        "adj2"
      ],
      "execution_count": 9,
      "outputs": [
        {
          "output_type": "execute_result",
          "data": {
            "text/plain": [
              "[[False, True, False, False, False],\n",
              " [True, False, False, False, False],\n",
              " [False, False, False, True, False],\n",
              " [False, False, True, False, False],\n",
              " [False, False, False, False, True]]"
            ]
          },
          "metadata": {
            "tags": []
          },
          "execution_count": 9
        }
      ]
    },
    {
      "cell_type": "code",
      "metadata": {
        "id": "rNgS2q97mHP4",
        "outputId": "45065e78-7fb5-4c77-a849-43664c318a24",
        "colab": {
          "base_uri": "https://localhost:8080/",
          "height": 168
        }
      },
      "source": [
        "adj3 = \"\"\"[[false,false,false,false,false,true,false,true,false], \n",
        " [false,false,false,false,false,false,false,false,true], \n",
        " [false,false,false,true,false,false,true,false,false], \n",
        " [false,false,true,false,false,false,false,false,false], \n",
        " [false,false,false,false,false,false,false,false,true], \n",
        " [true,false,false,false,false,false,false,false,false], \n",
        " [false,false,true,false,false,false,false,false,false], \n",
        " [true,false,false,false,false,false,false,false,false], \n",
        " [false,true,false,false,true,false,false,false,false]]\"\"\"\n",
        "\n",
        "adj3 = tf_fixer(adj3)\n",
        "adj3"
      ],
      "execution_count": 12,
      "outputs": [
        {
          "output_type": "execute_result",
          "data": {
            "text/plain": [
              "[[False, False, False, False, False, True, False, True, False],\n",
              " [False, False, False, False, False, False, False, False, True],\n",
              " [False, False, False, True, False, False, True, False, False],\n",
              " [False, False, True, False, False, False, False, False, False],\n",
              " [False, False, False, False, False, False, False, False, True],\n",
              " [True, False, False, False, False, False, False, False, False],\n",
              " [False, False, True, False, False, False, False, False, False],\n",
              " [True, False, False, False, False, False, False, False, False],\n",
              " [False, True, False, False, True, False, False, False, False]]"
            ]
          },
          "metadata": {
            "tags": []
          },
          "execution_count": 12
        }
      ]
    },
    {
      "cell_type": "code",
      "metadata": {
        "id": "BLGj3dths2qh",
        "outputId": "a003630b-0f2c-4174-f9e3-029298423d90",
        "colab": {
          "base_uri": "https://localhost:8080/",
          "height": 941
        }
      },
      "source": [
        "def countStars(adj):\n",
        "    # Make and populate a dictionary of the connections from the adjacency matrix\n",
        "    connections = {}\n",
        "    for i in range(len(adj)):\n",
        "        connections[i] = set()\n",
        "\n",
        "    for i, row in enumerate(adj):\n",
        "        for j, value in enumerate(row):\n",
        "            if value:\n",
        "                connections[i].add(j)\n",
        "\n",
        "    print(\"Connections:\", connections)\n",
        "\n",
        "    # Get rid of any empty nodes or nodes that connect to only themself\n",
        "    to_delete = []\n",
        "    for node, cons in connections.items():\n",
        "        # print(node, cons)\n",
        "        if (not cons) or (set({node}) == connections[node]):\n",
        "            to_delete.append(node)\n",
        "            \n",
        "    for node in to_delete:\n",
        "        del connections[node]\n",
        "    \n",
        "    print(\"Connections:\", connections)\n",
        "\n",
        "    # Find if there are any possible root nodes for the stars\n",
        "    print(\"Looking for roots:\")\n",
        "    possible_roots = []\n",
        "    for node, cons in connections.items():\n",
        "        print(node, cons)\n",
        "        # A root node would need to have more than one connection, but this might\n",
        "        # also include non-star patters like loops\n",
        "        if len(cons) > 1:\n",
        "            possible_roots.append(node)\n",
        "    \n",
        "    print(\"Possible roots:\", possible_roots)\n",
        "\n",
        "    # If any roots, look through those and associated connections\n",
        "    to_delete = set()\n",
        "    star_roots = set()\n",
        "    star_connections = set()\n",
        "    if possible_roots:\n",
        "        for root in possible_roots:\n",
        "            print(\"Root:\", root)\n",
        "            star = True\n",
        "            # For each connected node\n",
        "            for con in connections[root]:\n",
        "                print(root, con)\n",
        "                # If the length of the connections for THAT node exceed 1 then \n",
        "                # the whole pattern cannot be a star\n",
        "                if len(connections[con]) != 1:\n",
        "                    to_delete.add(con)\n",
        "                    to_delete.add(root)\n",
        "                    star = False\n",
        "            # If it's actually a star root\n",
        "            if star:\n",
        "                # Add the root to a set to keep track of\n",
        "                star_roots.add(root)\n",
        "                # And add each of it's connections to another set\n",
        "                star_connections.add(root)\n",
        "                for con in connections[root]:\n",
        "                    star_connections.add(con)\n",
        "    \n",
        "    print(\"To delete set:\", to_delete)\n",
        "    print(\"Star roots set:\", star_roots)\n",
        "    print(\"Star connections set\", star_connections)\n",
        "\n",
        "    # At this point everything not accounted for should only be a pair-wise star\n",
        "    # (a star with two nodes)\n",
        "    counter = 0\n",
        "    for node in connections.keys():\n",
        "        if node not in star_connections and node not in to_delete:\n",
        "            (node_con,) = connections[node]\n",
        "            if node_con not in star_connections and node_con not in to_delete:\n",
        "                counter += 1\n",
        "    \n",
        "    print(\"Counter:\", counter)\n",
        "\n",
        "    print(int(counter/2 + len(star_roots)))\n",
        "\n",
        "\n",
        "\n",
        "countStars(adj)\n",
        "print()\n",
        "countStars(adj2)\n",
        "print()\n",
        "countStars(adj3)"
      ],
      "execution_count": 52,
      "outputs": [
        {
          "output_type": "stream",
          "text": [
            "Connections: {0: {1}, 1: {0}, 2: {3}, 3: {2}, 4: set()}\n",
            "Connections: {0: {1}, 1: {0}, 2: {3}, 3: {2}}\n",
            "Looking for roots:\n",
            "0 {1}\n",
            "1 {0}\n",
            "2 {3}\n",
            "3 {2}\n",
            "Possible roots: []\n",
            "To delete set: set()\n",
            "Star roots set: set()\n",
            "Star connections set set()\n",
            "Counter: 4\n",
            "2\n",
            "\n",
            "Connections: {0: {1}, 1: {0}, 2: {3}, 3: {2}, 4: {4}}\n",
            "Connections: {0: {1}, 1: {0}, 2: {3}, 3: {2}}\n",
            "Looking for roots:\n",
            "0 {1}\n",
            "1 {0}\n",
            "2 {3}\n",
            "3 {2}\n",
            "Possible roots: []\n",
            "To delete set: set()\n",
            "Star roots set: set()\n",
            "Star connections set set()\n",
            "Counter: 4\n",
            "2\n",
            "\n",
            "Connections: {0: {5, 7}, 1: {8}, 2: {3, 6}, 3: {2}, 4: {8}, 5: {0}, 6: {2}, 7: {0}, 8: {1, 4}}\n",
            "Connections: {0: {5, 7}, 1: {8}, 2: {3, 6}, 3: {2}, 4: {8}, 5: {0}, 6: {2}, 7: {0}, 8: {1, 4}}\n",
            "Looking for roots:\n",
            "0 {5, 7}\n",
            "1 {8}\n",
            "2 {3, 6}\n",
            "3 {2}\n",
            "4 {8}\n",
            "5 {0}\n",
            "6 {2}\n",
            "7 {0}\n",
            "8 {1, 4}\n",
            "Possible roots: [0, 2, 8]\n",
            "Root: 0\n",
            "0 5\n",
            "0 7\n",
            "Root: 2\n",
            "2 3\n",
            "2 6\n",
            "Root: 8\n",
            "8 1\n",
            "8 4\n",
            "To delete set: set()\n",
            "Star roots set: {0, 8, 2}\n",
            "Star connections set {0, 1, 2, 3, 4, 5, 6, 7, 8}\n",
            "Counter: 0\n",
            "3\n"
          ],
          "name": "stdout"
        }
      ]
    },
    {
      "cell_type": "code",
      "metadata": {
        "id": "uS3KRaKoovL1"
      },
      "source": [
        "def countStars(adj):\n",
        "    # Make and populate a dictionary of the connections from the adjacency matrix\n",
        "    connections = {}\n",
        "    for i in range(len(adj)):\n",
        "        connections[i] = set()\n",
        "\n",
        "    for i, row in enumerate(adj):\n",
        "        for j, value in enumerate(row):\n",
        "            if value:\n",
        "                connections[i].add(j)\n",
        "\n",
        "    # Get rid of any empty nodes or nodes that connect to only themself\n",
        "    to_delete = []\n",
        "    for node, cons in connections.items():\n",
        "        if (not cons) or (set({node}) == connections[node]):\n",
        "            to_delete.append(node)\n",
        "            \n",
        "    for node in to_delete:\n",
        "        del connections[node]\n",
        "\n",
        "    # Find if there are any possible root nodes for the stars\n",
        "    possible_roots = []\n",
        "    for node, cons in connections.items():\n",
        "        # A root node would need to have more than one connection, but this might\n",
        "        # also include non-star patters like loops\n",
        "        if len(cons) > 1:\n",
        "            possible_roots.append(node)\n",
        "\n",
        "    # If any roots, look through those and associated connections\n",
        "    to_delete = set()\n",
        "    star_roots = set()\n",
        "    star_connections = set()\n",
        "    if possible_roots:\n",
        "        for root in possible_roots:\n",
        "            star = True\n",
        "            # For each connected node\n",
        "            for con in connections[root]:\n",
        "                # If the length of the connections for THAT node exceed 1 then \n",
        "                # the whole pattern cannot be a star\n",
        "                if len(connections[con]) != 1:\n",
        "                    to_delete.add(con)\n",
        "                    to_delete.add(root)\n",
        "                    star = False\n",
        "            # If it's actually a star root\n",
        "            if star:\n",
        "                # Add the root to a set to keep track of\n",
        "                star_roots.add(root)\n",
        "                # And add each of it's connections to another set\n",
        "                star_connections.add(root)\n",
        "                for con in connections[root]:\n",
        "                    star_connections.add(con)\n",
        "\n",
        "    # At this point everything not accounted for should only be a pair-wise star\n",
        "    # (a star with two nodes)\n",
        "    counter = 0\n",
        "    for node in connections.keys():\n",
        "        if node not in star_connections and node not in to_delete:\n",
        "            (node_con,) = connections[node]\n",
        "            if node_con not in star_connections and node_con not in to_delete:\n",
        "                counter += 1\n",
        "    \n",
        "    return int(counter/2 + len(star_roots))"
      ],
      "execution_count": 47,
      "outputs": []
    },
    {
      "cell_type": "code",
      "metadata": {
        "id": "fCpTnQLkrUA9",
        "outputId": "01362b36-b507-4e50-b95f-e890e1bf9e53",
        "colab": {
          "base_uri": "https://localhost:8080/",
          "height": 54
        }
      },
      "source": [
        "test6 = \"\"\"[\n",
        "      [\n",
        "        false,\n",
        "        true,\n",
        "        false,\n",
        "        false,\n",
        "        false,\n",
        "        false,\n",
        "        false,\n",
        "        false,\n",
        "        false,\n",
        "        false,\n",
        "        false,\n",
        "        false,\n",
        "        false,\n",
        "        false,\n",
        "        false,\n",
        "        false,\n",
        "        false,\n",
        "        false,\n",
        "        false\n",
        "      ],\n",
        "      [\n",
        "        true,\n",
        "        false,\n",
        "        false,\n",
        "        false,\n",
        "        false,\n",
        "        false,\n",
        "        false,\n",
        "        false,\n",
        "        false,\n",
        "        false,\n",
        "        false,\n",
        "        false,\n",
        "        false,\n",
        "        false,\n",
        "        false,\n",
        "        false,\n",
        "        false,\n",
        "        false,\n",
        "        false\n",
        "      ],\n",
        "      [\n",
        "        false,\n",
        "        false,\n",
        "        false,\n",
        "        true,\n",
        "        true,\n",
        "        false,\n",
        "        false,\n",
        "        false,\n",
        "        false,\n",
        "        false,\n",
        "        false,\n",
        "        false,\n",
        "        false,\n",
        "        false,\n",
        "        false,\n",
        "        false,\n",
        "        false,\n",
        "        false,\n",
        "        false\n",
        "      ],\n",
        "      [\n",
        "        false,\n",
        "        false,\n",
        "        true,\n",
        "        false,\n",
        "        false,\n",
        "        false,\n",
        "        false,\n",
        "        false,\n",
        "        false,\n",
        "        false,\n",
        "        false,\n",
        "        false,\n",
        "        false,\n",
        "        false,\n",
        "        false,\n",
        "        false,\n",
        "        false,\n",
        "        false,\n",
        "        false\n",
        "      ],\n",
        "      [\n",
        "        false,\n",
        "        false,\n",
        "        true,\n",
        "        false,\n",
        "        false,\n",
        "        false,\n",
        "        false,\n",
        "        false,\n",
        "        false,\n",
        "        false,\n",
        "        false,\n",
        "        false,\n",
        "        false,\n",
        "        false,\n",
        "        false,\n",
        "        false,\n",
        "        false,\n",
        "        false,\n",
        "        false\n",
        "      ],\n",
        "      [\n",
        "        false,\n",
        "        false,\n",
        "        false,\n",
        "        false,\n",
        "        false,\n",
        "        false,\n",
        "        true,\n",
        "        true,\n",
        "        true,\n",
        "        false,\n",
        "        false,\n",
        "        false,\n",
        "        false,\n",
        "        false,\n",
        "        false,\n",
        "        false,\n",
        "        false,\n",
        "        false,\n",
        "        false\n",
        "      ],\n",
        "      [\n",
        "        false,\n",
        "        false,\n",
        "        false,\n",
        "        false,\n",
        "        false,\n",
        "        true,\n",
        "        false,\n",
        "        false,\n",
        "        false,\n",
        "        false,\n",
        "        false,\n",
        "        false,\n",
        "        false,\n",
        "        false,\n",
        "        false,\n",
        "        false,\n",
        "        false,\n",
        "        false,\n",
        "        false\n",
        "      ],\n",
        "      [\n",
        "        false,\n",
        "        false,\n",
        "        false,\n",
        "        false,\n",
        "        false,\n",
        "        true,\n",
        "        false,\n",
        "        false,\n",
        "        false,\n",
        "        false,\n",
        "        false,\n",
        "        false,\n",
        "        false,\n",
        "        false,\n",
        "        false,\n",
        "        false,\n",
        "        false,\n",
        "        false,\n",
        "        false\n",
        "      ],\n",
        "      [\n",
        "        false,\n",
        "        false,\n",
        "        false,\n",
        "        false,\n",
        "        false,\n",
        "        true,\n",
        "        false,\n",
        "        false,\n",
        "        false,\n",
        "        false,\n",
        "        false,\n",
        "        false,\n",
        "        false,\n",
        "        false,\n",
        "        false,\n",
        "        false,\n",
        "        false,\n",
        "        false,\n",
        "        false\n",
        "      ],\n",
        "      [\n",
        "        false,\n",
        "        false,\n",
        "        false,\n",
        "        false,\n",
        "        false,\n",
        "        false,\n",
        "        false,\n",
        "        false,\n",
        "        false,\n",
        "        false,\n",
        "        true,\n",
        "        false,\n",
        "        false,\n",
        "        false,\n",
        "        false,\n",
        "        false,\n",
        "        false,\n",
        "        false,\n",
        "        false\n",
        "      ],\n",
        "      [\n",
        "        false,\n",
        "        false,\n",
        "        false,\n",
        "        false,\n",
        "        false,\n",
        "        false,\n",
        "        false,\n",
        "        false,\n",
        "        false,\n",
        "        true,\n",
        "        false,\n",
        "        false,\n",
        "        false,\n",
        "        false,\n",
        "        false,\n",
        "        false,\n",
        "        false,\n",
        "        false,\n",
        "        false\n",
        "      ],\n",
        "      [\n",
        "        false,\n",
        "        false,\n",
        "        false,\n",
        "        false,\n",
        "        false,\n",
        "        false,\n",
        "        false,\n",
        "        false,\n",
        "        false,\n",
        "        false,\n",
        "        false,\n",
        "        false,\n",
        "        true,\n",
        "        true,\n",
        "        false,\n",
        "        false,\n",
        "        false,\n",
        "        false,\n",
        "        false\n",
        "      ],\n",
        "      [\n",
        "        false,\n",
        "        false,\n",
        "        false,\n",
        "        false,\n",
        "        false,\n",
        "        false,\n",
        "        false,\n",
        "        false,\n",
        "        false,\n",
        "        false,\n",
        "        false,\n",
        "        true,\n",
        "        false,\n",
        "        true,\n",
        "        false,\n",
        "        false,\n",
        "        false,\n",
        "        false,\n",
        "        false\n",
        "      ],\n",
        "      [\n",
        "        false,\n",
        "        false,\n",
        "        false,\n",
        "        false,\n",
        "        false,\n",
        "        false,\n",
        "        false,\n",
        "        false,\n",
        "        false,\n",
        "        false,\n",
        "        false,\n",
        "        true,\n",
        "        true,\n",
        "        false,\n",
        "        false,\n",
        "        false,\n",
        "        false,\n",
        "        false,\n",
        "        false\n",
        "      ],\n",
        "      [\n",
        "        false,\n",
        "        false,\n",
        "        false,\n",
        "        false,\n",
        "        false,\n",
        "        false,\n",
        "        false,\n",
        "        false,\n",
        "        false,\n",
        "        false,\n",
        "        false,\n",
        "        false,\n",
        "        false,\n",
        "        false,\n",
        "        false,\n",
        "        true,\n",
        "        true,\n",
        "        true,\n",
        "        true\n",
        "      ],\n",
        "      [\n",
        "        false,\n",
        "        false,\n",
        "        false,\n",
        "        false,\n",
        "        false,\n",
        "        false,\n",
        "        false,\n",
        "        false,\n",
        "        false,\n",
        "        false,\n",
        "        false,\n",
        "        false,\n",
        "        false,\n",
        "        false,\n",
        "        true,\n",
        "        false,\n",
        "        true,\n",
        "        false,\n",
        "        true\n",
        "      ],\n",
        "      [\n",
        "        false,\n",
        "        false,\n",
        "        false,\n",
        "        false,\n",
        "        false,\n",
        "        false,\n",
        "        false,\n",
        "        false,\n",
        "        false,\n",
        "        false,\n",
        "        false,\n",
        "        false,\n",
        "        false,\n",
        "        false,\n",
        "        true,\n",
        "        true,\n",
        "        false,\n",
        "        true,\n",
        "        false\n",
        "      ],\n",
        "      [\n",
        "        false,\n",
        "        false,\n",
        "        false,\n",
        "        false,\n",
        "        false,\n",
        "        false,\n",
        "        false,\n",
        "        false,\n",
        "        false,\n",
        "        false,\n",
        "        false,\n",
        "        false,\n",
        "        false,\n",
        "        false,\n",
        "        true,\n",
        "        false,\n",
        "        true,\n",
        "        false,\n",
        "        true\n",
        "      ],\n",
        "      [\n",
        "        false,\n",
        "        false,\n",
        "        false,\n",
        "        false,\n",
        "        false,\n",
        "        false,\n",
        "        false,\n",
        "        false,\n",
        "        false,\n",
        "        false,\n",
        "        false,\n",
        "        false,\n",
        "        false,\n",
        "        false,\n",
        "        true,\n",
        "        true,\n",
        "        false,\n",
        "        true,\n",
        "        false\n",
        "      ]\n",
        "    ]\n",
        "\"\"\"\n",
        "# for char in test6[:40]:\n",
        "#     print(char)\n",
        "# print(test6)\n",
        "test6b = test6.replace('\\n','').replace(' ','')\n",
        "test6b\n",
        "print(tf_fixer(test6b))\n"
      ],
      "execution_count": 42,
      "outputs": [
        {
          "output_type": "stream",
          "text": [
            "[[False, True, False, False, False, False, False, False, False, False, False, False, False, False, False, False, False, False, False], [True, False, False, False, False, False, False, False, False, False, False, False, False, False, False, False, False, False, False], [False, False, False, True, True, False, False, False, False, False, False, False, False, False, False, False, False, False, False], [False, False, True, False, False, False, False, False, False, False, False, False, False, False, False, False, False, False, False], [False, False, True, False, False, False, False, False, False, False, False, False, False, False, False, False, False, False, False], [False, False, False, False, False, False, True, True, True, False, False, False, False, False, False, False, False, False, False], [False, False, False, False, False, True, False, False, False, False, False, False, False, False, False, False, False, False, False], [False, False, False, False, False, True, False, False, False, False, False, False, False, False, False, False, False, False, False], [False, False, False, False, False, True, False, False, False, False, False, False, False, False, False, False, False, False, False], [False, False, False, False, False, False, False, False, False, False, True, False, False, False, False, False, False, False, False], [False, False, False, False, False, False, False, False, False, True, False, False, False, False, False, False, False, False, False], [False, False, False, False, False, False, False, False, False, False, False, False, True, True, False, False, False, False, False], [False, False, False, False, False, False, False, False, False, False, False, True, False, True, False, False, False, False, False], [False, False, False, False, False, False, False, False, False, False, False, True, True, False, False, False, False, False, False], [False, False, False, False, False, False, False, False, False, False, False, False, False, False, False, True, True, True, True], [False, False, False, False, False, False, False, False, False, False, False, False, False, False, True, False, True, False, True], [False, False, False, False, False, False, False, False, False, False, False, False, False, False, True, True, False, True, False], [False, False, False, False, False, False, False, False, False, False, False, False, False, False, True, False, True, False, True], [False, False, False, False, False, False, False, False, False, False, False, False, False, False, True, True, False, True, False]]\n"
          ],
          "name": "stdout"
        }
      ]
    },
    {
      "cell_type": "code",
      "metadata": {
        "id": "JflKk00Ct1za",
        "outputId": "89a4b628-47c8-4823-ee26-d712b33ca637",
        "colab": {
          "base_uri": "https://localhost:8080/",
          "height": 34
        }
      },
      "source": [
        "adj6 = [[False, True, False, False, False, False, False, False, False, False, False, False, False, False, False, False, False, False, False], \n",
        " [True, False, False, False, False, False, False, False, False, False, False, False, False, False, False, False, False, False, False], \n",
        " [False, False, False, True, True, False, False, False, False, False, False, False, False, False, False, False, False, False, False], \n",
        " [False, False, True, False, False, False, False, False, False, False, False, False, False, False, False, False, False, False, False], \n",
        " [False, False, True, False, False, False, False, False, False, False, False, False, False, False, False, False, False, False, False], \n",
        " [False, False, False, False, False, False, True, True, True, False, False, False, False, False, False, False, False, False, False], \n",
        " [False, False, False, False, False, True, False, False, False, False, False, False, False, False, False, False, False, False, False], \n",
        " [False, False, False, False, False, True, False, False, False, False, False, False, False, False, False, False, False, False, False], \n",
        " [False, False, False, False, False, True, False, False, False, False, False, False, False, False, False, False, False, False, False], \n",
        " [False, False, False, False, False, False, False, False, False, False, True, False, False, False, False, False, False, False, False], \n",
        " [False, False, False, False, False, False, False, False, False, True, False, False, False, False, False, False, False, False, False], \n",
        " [False, False, False, False, False, False, False, False, False, False, False, False, True, True, False, False, False, False, False], \n",
        " [False, False, False, False, False, False, False, False, False, False, False, True, False, True, False, False, False, False, False], \n",
        " [False, False, False, False, False, False, False, False, False, False, False, True, True, False, False, False, False, False, False], \n",
        " [False, False, False, False, False, False, False, False, False, False, False, False, False, False, False, True, True, True, True], \n",
        " [False, False, False, False, False, False, False, False, False, False, False, False, False, False, True, False, True, False, True], \n",
        " [False, False, False, False, False, False, False, False, False, False, False, False, False, False, True, True, False, True, False], \n",
        " [False, False, False, False, False, False, False, False, False, False, False, False, False, False, True, False, True, False, True], \n",
        " [False, False, False, False, False, False, False, False, False, False, False, False, False, False, True, True, False, True, False]]\n",
        "\n",
        "countStars(adj6)"
      ],
      "execution_count": 48,
      "outputs": [
        {
          "output_type": "execute_result",
          "data": {
            "text/plain": [
              "4"
            ]
          },
          "metadata": {
            "tags": []
          },
          "execution_count": 48
        }
      ]
    },
    {
      "cell_type": "code",
      "metadata": {
        "id": "jCWAOAtNvpIp",
        "outputId": "6bbb505d-cc9d-4981-d38b-8d2731a078a2",
        "colab": {
          "base_uri": "https://localhost:8080/",
          "height": 151
        }
      },
      "source": [
        "adj7 = \"\"\"[[false,true,false,false,false,false,false,false], \n",
        " [true,false,true,true,true,true,true,true], \n",
        " [false,true,false,false,false,false,false,false], \n",
        " [false,true,false,false,false,false,false,false], \n",
        " [false,true,false,false,false,false,false,false], \n",
        " [false,true,false,false,false,false,false,false], \n",
        " [false,true,false,false,false,false,false,true], \n",
        " [false,true,false,false,false,false,true,false]]\"\"\"\n",
        "\n",
        "adj7 = tf_fixer(adj7)\n",
        "adj7"
      ],
      "execution_count": 50,
      "outputs": [
        {
          "output_type": "execute_result",
          "data": {
            "text/plain": [
              "[[False, True, False, False, False, False, False, False],\n",
              " [True, False, True, True, True, True, True, True],\n",
              " [False, True, False, False, False, False, False, False],\n",
              " [False, True, False, False, False, False, False, False],\n",
              " [False, True, False, False, False, False, False, False],\n",
              " [False, True, False, False, False, False, False, False],\n",
              " [False, True, False, False, False, False, False, True],\n",
              " [False, True, False, False, False, False, True, False]]"
            ]
          },
          "metadata": {
            "tags": []
          },
          "execution_count": 50
        }
      ]
    },
    {
      "cell_type": "code",
      "metadata": {
        "id": "wWFaB-OpvxT9",
        "outputId": "ba28025e-601f-47ff-8306-e332d0495901",
        "colab": {
          "base_uri": "https://localhost:8080/",
          "height": 538
        }
      },
      "source": [
        "countStars(adj7)"
      ],
      "execution_count": 53,
      "outputs": [
        {
          "output_type": "stream",
          "text": [
            "Connections: {0: {1}, 1: {0, 2, 3, 4, 5, 6, 7}, 2: {1}, 3: {1}, 4: {1}, 5: {1}, 6: {1, 7}, 7: {1, 6}}\n",
            "Connections: {0: {1}, 1: {0, 2, 3, 4, 5, 6, 7}, 2: {1}, 3: {1}, 4: {1}, 5: {1}, 6: {1, 7}, 7: {1, 6}}\n",
            "Looking for roots:\n",
            "0 {1}\n",
            "1 {0, 2, 3, 4, 5, 6, 7}\n",
            "2 {1}\n",
            "3 {1}\n",
            "4 {1}\n",
            "5 {1}\n",
            "6 {1, 7}\n",
            "7 {1, 6}\n",
            "Possible roots: [1, 6, 7]\n",
            "Root: 1\n",
            "1 0\n",
            "1 2\n",
            "1 3\n",
            "1 4\n",
            "1 5\n",
            "1 6\n",
            "1 7\n",
            "Root: 6\n",
            "6 1\n",
            "6 7\n",
            "Root: 7\n",
            "7 1\n",
            "7 6\n",
            "To delete set: {1, 6, 7}\n",
            "Star roots set: set()\n",
            "Star connections set set()\n",
            "Counter: 0\n",
            "0\n"
          ],
          "name": "stdout"
        }
      ]
    },
    {
      "cell_type": "markdown",
      "metadata": {
        "id": "Gbu9qJgg0Gdm"
      },
      "source": [
        "### 12 - Is Wheel"
      ]
    },
    {
      "cell_type": "code",
      "metadata": {
        "id": "MF3wT-hi0IgI",
        "outputId": "fa08f1a1-d038-47a3-9db8-b1212f14e1c4",
        "colab": {
          "base_uri": "https://localhost:8080/",
          "height": 101
        }
      },
      "source": [
        "adj1 = \"\"\"[[false,true,true,true,true], \n",
        " [true,false,true,false,true], \n",
        " [true,true,false,true,false], \n",
        " [true,false,true,false,true], \n",
        " [true,true,false,true,false]]\"\"\"\n",
        "\n",
        "adj1 = tf_fixer(adj1)\n",
        "adj1"
      ],
      "execution_count": 55,
      "outputs": [
        {
          "output_type": "execute_result",
          "data": {
            "text/plain": [
              "[[False, True, True, True, True],\n",
              " [True, False, True, False, True],\n",
              " [True, True, False, True, False],\n",
              " [True, False, True, False, True],\n",
              " [True, True, False, True, False]]"
            ]
          },
          "metadata": {
            "tags": []
          },
          "execution_count": 55
        }
      ]
    },
    {
      "cell_type": "code",
      "metadata": {
        "id": "zqP9krcy6vQJ",
        "outputId": "fbb1a390-f60e-4152-809d-1e689fe3024f",
        "colab": {
          "base_uri": "https://localhost:8080/",
          "height": 84
        }
      },
      "source": [
        "adj2 = \"\"\"[[false,true,true,true], \n",
        " [true,false,true,true], \n",
        " [true,true,false,true], \n",
        " [true,true,true,false]]\"\"\"\n",
        "\n",
        "adj2 = tf_fixer(adj2)\n",
        "adj2"
      ],
      "execution_count": 61,
      "outputs": [
        {
          "output_type": "execute_result",
          "data": {
            "text/plain": [
              "[[False, True, True, True],\n",
              " [True, False, True, True],\n",
              " [True, True, False, True],\n",
              " [True, True, True, False]]"
            ]
          },
          "metadata": {
            "tags": []
          },
          "execution_count": 61
        }
      ]
    },
    {
      "cell_type": "code",
      "metadata": {
        "id": "tBiUkfdO5cgC",
        "outputId": "7e5e34de-c315-48c4-e6f6-cd6237fb229b",
        "colab": {
          "base_uri": "https://localhost:8080/",
          "height": 151
        }
      },
      "source": [
        "def isWheel(adj):\n",
        "    # Create dictionary and populate it\n",
        "    connections = {}\n",
        "    for i in range(len(adj)):\n",
        "        connections[i] = set()\n",
        "    \n",
        "    for i, row in enumerate(adj):\n",
        "        for j, value in enumerate(row):\n",
        "            if value:\n",
        "                connections[i].add(j)\n",
        "    \n",
        "    print(connections)\n",
        "\n",
        "    # There is a single special case with adj length of 4 where each node would\n",
        "    # be connected to each other node; they would all be \"centers\" in a sense\n",
        "    if len(adj) == 4:\n",
        "        for value_set in connections.values():\n",
        "            if len(value_set) != 3:\n",
        "                return False\n",
        "        return True\n",
        "    \n",
        "    # All other wheels will have a single center node with a connection length of n-1\n",
        "    # All other nodes in these wheels will have a connection length of 3\n",
        "    center_node = -1\n",
        "    center_found = False\n",
        "    for node, con in connections.items():\n",
        "        if len(con) != 3:\n",
        "            if (len(con) == len(adj)-1) and (not center_found):\n",
        "                center_node = node\n",
        "                center_found = True\n",
        "            else:\n",
        "                return False\n",
        "    \n",
        "    # No center node found because they all had three connections\n",
        "    if center_node == -1:\n",
        "        return False\n",
        "    \n",
        "    print(center_node)\n",
        "\n",
        "    # Need to make sure that the wheel goes in a loop all the way around without\n",
        "    # having smaller loops that are all connected to the center node\n",
        "    # Could travel along the wheel adding each traversed node to a set\n",
        "    # At each node subtract the traversed set and the center node\n",
        "    # This will then either leave only one node to move along or no nodes after \n",
        "    # a loop has been made. At that point, check the length of the traversed set\n",
        "    traversed = {center_node}\n",
        "\n",
        "    current = list(connections[center_node])[0]\n",
        "    print(current, traversed)\n",
        "    traversed.add(current)\n",
        "\n",
        "    # print(current, traversed)\n",
        "\n",
        "    # current = list(connections[current]-traversed)[0]\n",
        "    # traversed.add(current)\n",
        "\n",
        "    # print(current, traversed)\n",
        "\n",
        "    while True:\n",
        "        print(current, traversed)\n",
        "        next_step = list(connections[current]-traversed)[0]\n",
        "        traversed.add(next_step)\n",
        "        # print(traversed)\n",
        "        current = next_step\n",
        "        if not connections[current]-traversed:\n",
        "            break\n",
        "\n",
        "    print(current, traversed)\n",
        "    if len(traversed) == len(adj):\n",
        "        return True\n",
        "    \n",
        "    return False\n",
        "\n",
        "\n",
        "\n",
        "\n",
        "isWheel(adj1)\n",
        "# print()\n",
        "# isWheel(adj2)"
      ],
      "execution_count": 90,
      "outputs": [
        {
          "output_type": "stream",
          "text": [
            "{0: {1, 2, 3, 4}, 1: {0, 2, 4}, 2: {0, 1, 3}, 3: {0, 2, 4}, 4: {0, 1, 3}}\n",
            "0\n",
            "1 {0}\n",
            "1 {0, 1}\n",
            "2 {0, 1, 2}\n",
            "3 {0, 1, 2, 3}\n",
            "4 {0, 1, 2, 3, 4}\n"
          ],
          "name": "stdout"
        },
        {
          "output_type": "execute_result",
          "data": {
            "text/plain": [
              "True"
            ]
          },
          "metadata": {
            "tags": []
          },
          "execution_count": 90
        }
      ]
    },
    {
      "cell_type": "code",
      "metadata": {
        "id": "j1FBpLbz-VXb",
        "outputId": "49e99186-f1f0-4ce1-c0a9-e279640ce07c",
        "colab": {
          "base_uri": "https://localhost:8080/",
          "height": 34
        }
      },
      "source": [
        "set1 = {1, 2, 3, 4}\n",
        "set2 = {0, 2, 4}\n",
        "(next,) = set2-set1\n",
        "next"
      ],
      "execution_count": 77,
      "outputs": [
        {
          "output_type": "execute_result",
          "data": {
            "text/plain": [
              "0"
            ]
          },
          "metadata": {
            "tags": []
          },
          "execution_count": 77
        }
      ]
    },
    {
      "cell_type": "markdown",
      "metadata": {
        "id": "-J2GoBhd0Izq"
      },
      "source": [
        "### 13 - Is Book"
      ]
    },
    {
      "cell_type": "code",
      "metadata": {
        "id": "2JhpsxZj0LSx",
        "outputId": "65658618-64d0-4be2-e274-d785e3a0d367",
        "colab": {
          "base_uri": "https://localhost:8080/",
          "height": 84
        }
      },
      "source": [
        "adj1 = \"\"\"[[false,true,true,true], \n",
        " [true,false,true,true], \n",
        " [true,true,false,false], \n",
        " [true,true,false,false]]\"\"\"\n",
        "\n",
        "adj1 = tf_fixer(adj1)\n",
        "adj1"
      ],
      "execution_count": 91,
      "outputs": [
        {
          "output_type": "execute_result",
          "data": {
            "text/plain": [
              "[[False, True, True, True],\n",
              " [True, False, True, True],\n",
              " [True, True, False, False],\n",
              " [True, True, False, False]]"
            ]
          },
          "metadata": {
            "tags": []
          },
          "execution_count": 91
        }
      ]
    },
    {
      "cell_type": "code",
      "metadata": {
        "id": "lnC4O3coddrP",
        "outputId": "044d6850-641f-4f20-ce1c-8078fff6a0fe",
        "colab": {
          "base_uri": "https://localhost:8080/",
          "height": 34
        }
      },
      "source": [
        "adj2 = \"\"\"[[false,true], \n",
        " [true,false]]\"\"\"\n",
        "\n",
        "adj2 = tf_fixer(adj2)\n",
        "adj2"
      ],
      "execution_count": 92,
      "outputs": [
        {
          "output_type": "execute_result",
          "data": {
            "text/plain": [
              "[[False, True], [True, False]]"
            ]
          },
          "metadata": {
            "tags": []
          },
          "execution_count": 92
        }
      ]
    },
    {
      "cell_type": "code",
      "metadata": {
        "id": "O9D-HDmodnVG",
        "outputId": "17cec863-427a-4e5a-f297-5f33dfa4c062",
        "colab": {
          "base_uri": "https://localhost:8080/",
          "height": 101
        }
      },
      "source": [
        "adj3 = \"\"\"[[false,false,true,true,true], \n",
        " [false,false,false,true,true], \n",
        " [true,false,false,true,true], \n",
        " [true,true,true,false,true], \n",
        " [true,true,true,true,false]]\"\"\"\n",
        "\n",
        "adj3 = tf_fixer(adj3)\n",
        "adj3"
      ],
      "execution_count": 93,
      "outputs": [
        {
          "output_type": "execute_result",
          "data": {
            "text/plain": [
              "[[False, False, True, True, True],\n",
              " [False, False, False, True, True],\n",
              " [True, False, False, True, True],\n",
              " [True, True, True, False, True],\n",
              " [True, True, True, True, False]]"
            ]
          },
          "metadata": {
            "tags": []
          },
          "execution_count": 93
        }
      ]
    },
    {
      "cell_type": "code",
      "metadata": {
        "id": "JnZNsu6OhiZn",
        "outputId": "fbf2c33a-926f-4da3-e13b-59878bf9e791",
        "colab": {
          "base_uri": "https://localhost:8080/",
          "height": 34
        }
      },
      "source": [
        "adj11 = \"\"\"[[false,true,true], \n",
        " [true,false,true], \n",
        " [true,true,false]]\"\"\"\n",
        "\n",
        "adj11 = tf_fixer(adj11)\n",
        "adj11"
      ],
      "execution_count": 109,
      "outputs": [
        {
          "output_type": "execute_result",
          "data": {
            "text/plain": [
              "[[False, True, True], [True, False, True], [True, True, False]]"
            ]
          },
          "metadata": {
            "tags": []
          },
          "execution_count": 109
        }
      ]
    },
    {
      "cell_type": "code",
      "metadata": {
        "id": "C2dlFaF7dwZi",
        "outputId": "46543a4f-5165-495a-e52e-ee66a2fbfc34",
        "colab": {
          "base_uri": "https://localhost:8080/",
          "height": 386
        }
      },
      "source": [
        "def isBook(adj):\n",
        "    # Create and populate dictionary of connections\n",
        "    connections = {}\n",
        "    for i, row in enumerate(adj):\n",
        "        connections[i] = set()\n",
        "        for j, value in enumerate(row):\n",
        "            if value:\n",
        "                connections[i].add(j)\n",
        "    \n",
        "    print(connections)\n",
        "\n",
        "    # There should be two nodes in adj that are connected to n-1 other nodes\n",
        "    # Any other nodes need to have exactly two connections (only those first two)\n",
        "    book_ends = set()\n",
        "    for node, cons in connections.items():\n",
        "        if len(cons) == len(adj)-1:\n",
        "            book_ends.add(node)\n",
        "        elif len(cons) != 2:\n",
        "            return False\n",
        "    if len(book_ends) != 2:\n",
        "        if len(adj) != 3:\n",
        "            return False\n",
        "\n",
        "    print(book_ends)\n",
        "\n",
        "    # Check if the bookend connections are the same aside from them being connected\n",
        "    # to each other\n",
        "    book_ends = list(book_ends)\n",
        "    print(book_ends)\n",
        "    print(connections[book_ends[0]])\n",
        "    print({book_ends[1]})\n",
        "    if connections[book_ends[0]]-{book_ends[1]} == connections[book_ends[1]]-{book_ends[0]}:\n",
        "        print(True)\n",
        "    else:\n",
        "        print(False)\n",
        "\n",
        "isBook(adj1)\n",
        "print()\n",
        "isBook(adj2)\n",
        "print()\n",
        "isBook(adj3)\n",
        "print()\n",
        "isBook(adj11)"
      ],
      "execution_count": 111,
      "outputs": [
        {
          "output_type": "stream",
          "text": [
            "{0: {1, 2, 3}, 1: {0, 2, 3}, 2: {0, 1}, 3: {0, 1}}\n",
            "{0, 1}\n",
            "[0, 1]\n",
            "{1, 2, 3}\n",
            "{1}\n",
            "True\n",
            "\n",
            "{0: {1}, 1: {0}}\n",
            "{0, 1}\n",
            "[0, 1]\n",
            "{1}\n",
            "{1}\n",
            "True\n",
            "\n",
            "{0: {2, 3, 4}, 1: {3, 4}, 2: {0, 3, 4}, 3: {0, 1, 2, 4}, 4: {0, 1, 2, 3}}\n",
            "\n",
            "{0: {1, 2}, 1: {0, 2}, 2: {0, 1}}\n",
            "{0, 1, 2}\n",
            "[0, 1, 2]\n",
            "{1, 2}\n",
            "{1}\n",
            "True\n"
          ],
          "name": "stdout"
        }
      ]
    },
    {
      "cell_type": "markdown",
      "metadata": {
        "id": "pg-VvWRI0Lfk"
      },
      "source": [
        "### 14 - Is Bull"
      ]
    },
    {
      "cell_type": "code",
      "metadata": {
        "id": "vsLjXI8m0OoH"
      },
      "source": [
        ""
      ],
      "execution_count": null,
      "outputs": []
    },
    {
      "cell_type": "markdown",
      "metadata": {
        "id": "TfCvpBE70O5_"
      },
      "source": [
        "### 15 - Is Tadpole"
      ]
    },
    {
      "cell_type": "code",
      "metadata": {
        "id": "HY2jKxeP0Sa-"
      },
      "source": [
        ""
      ],
      "execution_count": null,
      "outputs": []
    },
    {
      "cell_type": "markdown",
      "metadata": {
        "id": "zbYRRNXk0SnA"
      },
      "source": [
        "### 16 - Is Flower"
      ]
    },
    {
      "cell_type": "code",
      "metadata": {
        "id": "Lj24tS1b0WKR"
      },
      "source": [
        ""
      ],
      "execution_count": null,
      "outputs": []
    },
    {
      "cell_type": "markdown",
      "metadata": {
        "id": "8DIZ4zg80Wbr"
      },
      "source": [
        "### 17 - Is Correctly Cut"
      ]
    },
    {
      "cell_type": "code",
      "metadata": {
        "id": "_7hJ1HF40Y5E"
      },
      "source": [
        ""
      ],
      "execution_count": null,
      "outputs": []
    },
    {
      "cell_type": "markdown",
      "metadata": {
        "id": "oCCuOz890ZKa"
      },
      "source": [
        "## In the Pseudoforest"
      ]
    },
    {
      "cell_type": "markdown",
      "metadata": {
        "id": "k1Jbpy9i0cYV"
      },
      "source": [
        ""
      ]
    }
  ]
}